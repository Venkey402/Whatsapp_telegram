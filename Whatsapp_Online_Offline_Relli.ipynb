{
 "cells": [
  {
   "cell_type": "code",
   "execution_count": 1,
   "id": "4d57f804",
   "metadata": {
    "scrolled": true
   },
   "outputs": [],
   "source": [
    "from datetime import datetime\n",
    "import pandas as pd\n",
    "import calendar\n",
    "import matplotlib.pyplot as plt\n",
    "%matplotlib inline  \n",
    "import seaborn as sns\n",
    "import numpy as np\n",
    "\n",
    "df = pd.read_csv(\"whatsapp_Relli.csv\")"
   ]
  },
  {
   "cell_type": "markdown",
   "id": "08f258d0",
   "metadata": {},
   "source": [
    "# i. Finding the Day :"
   ]
  },
  {
   "cell_type": "code",
   "execution_count": 2,
   "id": "feafc41c",
   "metadata": {},
   "outputs": [],
   "source": [
    "def Dayfinder(Date):\n",
    "    date_time_obj3 = datetime.strptime(Date, '%m/%d/%Y')\n",
    "    return calendar.day_name[date_time_obj3.weekday()]\n",
    "\n",
    "df[\"Day\"] = df[\"Date\"].apply(Dayfinder)\n"
   ]
  },
  {
   "cell_type": "markdown",
   "id": "b7ff8f7b",
   "metadata": {},
   "source": [
    "# ii. Adding LastSeenBeforeCurrentOnlineTime column :"
   ]
  },
  {
   "cell_type": "code",
   "execution_count": 3,
   "id": "680b20ff",
   "metadata": {},
   "outputs": [],
   "source": [
    "df[\"LastSeenBeforeCurrentOnlineTime\"] = df[\"OnlineTime\"].loc[0]\n",
    "for i in np.arange(1,df[\"OnlineTime\"].count()):   \n",
    "    df[\"LastSeenBeforeCurrentOnlineTime\"].loc[i]=df[\"OfflineTime\"].loc[i-1]"
   ]
  },
  {
   "cell_type": "markdown",
   "id": "5eea25cf",
   "metadata": {},
   "source": [
    "# iii. Finding the Duration :"
   ]
  },
  {
   "cell_type": "code",
   "execution_count": 4,
   "id": "64c1a676",
   "metadata": {},
   "outputs": [],
   "source": [
    "def Durationfinder(OfflineTime,OnlineTime):\n",
    "    OfflineTime = datetime.strptime(OfflineTime, '%H:%M:%S')\n",
    "    OnlineTime = datetime.strptime(OnlineTime, '%H:%M:%S')\n",
    "    return ((OfflineTime-OnlineTime).seconds)/60\n",
    "\n",
    "df[\"OnlineDurationInMin\"] = df[[\"OfflineTime\",\"OnlineTime\"]].apply(lambda df : Durationfinder(df[\"OfflineTime\"],df[\"OnlineTime\"]),axis=1)\n",
    "df[\"AwayDurationInMin\"] = df[[\"OnlineTime\",\"LastSeenBeforeCurrentOnlineTime\"]].apply(lambda df : Durationfinder(df[\"OnlineTime\"],df[\"LastSeenBeforeCurrentOnlineTime\"]),axis=1)\n"
   ]
  },
  {
   "cell_type": "markdown",
   "id": "0f7cf25e",
   "metadata": {},
   "source": [
    "# iv. Finding the Hour :"
   ]
  },
  {
   "cell_type": "code",
   "execution_count": 5,
   "id": "92cd9fae",
   "metadata": {},
   "outputs": [],
   "source": [
    "def Hourfinder(OnlineTime):\n",
    "    date_time_obj4 = datetime.strptime(OnlineTime, '%H:%M:%S')\n",
    "    return date_time_obj4.hour\n",
    "\n",
    "df[\"Hour\"] = df[\"OnlineTime\"].apply(Hourfinder)\n",
    "\n"
   ]
  },
  {
   "cell_type": "markdown",
   "id": "1562c357",
   "metadata": {},
   "source": [
    "# v. Converting String to Date :\n"
   ]
  },
  {
   "cell_type": "code",
   "execution_count": 6,
   "id": "fa7bc3e8",
   "metadata": {},
   "outputs": [],
   "source": [
    "def DateStrToDateConv(Date):\n",
    "    return datetime.strptime(Date, '%m/%d/%Y')\n",
    "\n",
    "df[\"Date\"] = df[\"Date\"].apply(DateStrToDateConv)\n"
   ]
  },
  {
   "cell_type": "markdown",
   "id": "7f815ef9",
   "metadata": {},
   "source": [
    "# 1.Today's data:"
   ]
  },
  {
   "cell_type": "code",
   "execution_count": 7,
   "id": "6fd8c097",
   "metadata": {},
   "outputs": [
    {
     "data": {
      "text/html": [
       "<div>\n",
       "<style scoped>\n",
       "    .dataframe tbody tr th:only-of-type {\n",
       "        vertical-align: middle;\n",
       "    }\n",
       "\n",
       "    .dataframe tbody tr th {\n",
       "        vertical-align: top;\n",
       "    }\n",
       "\n",
       "    .dataframe thead th {\n",
       "        text-align: right;\n",
       "    }\n",
       "</style>\n",
       "<table border=\"1\" class=\"dataframe\">\n",
       "  <thead>\n",
       "    <tr style=\"text-align: right;\">\n",
       "      <th></th>\n",
       "      <th>Date</th>\n",
       "      <th>OnlineTime</th>\n",
       "      <th>OfflineTime</th>\n",
       "      <th>Day</th>\n",
       "      <th>LastSeenBeforeCurrentOnlineTime</th>\n",
       "      <th>OnlineDurationInMin</th>\n",
       "      <th>AwayDurationInMin</th>\n",
       "      <th>Hour</th>\n",
       "    </tr>\n",
       "  </thead>\n",
       "  <tbody>\n",
       "    <tr>\n",
       "      <th>82</th>\n",
       "      <td>2021-10-05</td>\n",
       "      <td>21:14:35</td>\n",
       "      <td>21:15:57</td>\n",
       "      <td>Tuesday</td>\n",
       "      <td>21:08:17</td>\n",
       "      <td>1.366667</td>\n",
       "      <td>6.300000</td>\n",
       "      <td>21</td>\n",
       "    </tr>\n",
       "    <tr>\n",
       "      <th>81</th>\n",
       "      <td>2021-10-05</td>\n",
       "      <td>21:07:35</td>\n",
       "      <td>21:08:17</td>\n",
       "      <td>Tuesday</td>\n",
       "      <td>21:00:23</td>\n",
       "      <td>0.700000</td>\n",
       "      <td>7.200000</td>\n",
       "      <td>21</td>\n",
       "    </tr>\n",
       "    <tr>\n",
       "      <th>80</th>\n",
       "      <td>2021-10-05</td>\n",
       "      <td>20:59:42</td>\n",
       "      <td>21:00:23</td>\n",
       "      <td>Tuesday</td>\n",
       "      <td>20:02:52</td>\n",
       "      <td>0.683333</td>\n",
       "      <td>56.833333</td>\n",
       "      <td>20</td>\n",
       "    </tr>\n",
       "    <tr>\n",
       "      <th>79</th>\n",
       "      <td>2021-10-05</td>\n",
       "      <td>20:02:27</td>\n",
       "      <td>20:02:52</td>\n",
       "      <td>Tuesday</td>\n",
       "      <td>19:38:51</td>\n",
       "      <td>0.416667</td>\n",
       "      <td>23.600000</td>\n",
       "      <td>20</td>\n",
       "    </tr>\n",
       "    <tr>\n",
       "      <th>78</th>\n",
       "      <td>2021-10-05</td>\n",
       "      <td>19:37:41</td>\n",
       "      <td>19:38:51</td>\n",
       "      <td>Tuesday</td>\n",
       "      <td>19:14:53</td>\n",
       "      <td>1.166667</td>\n",
       "      <td>22.800000</td>\n",
       "      <td>19</td>\n",
       "    </tr>\n",
       "    <tr>\n",
       "      <th>...</th>\n",
       "      <td>...</td>\n",
       "      <td>...</td>\n",
       "      <td>...</td>\n",
       "      <td>...</td>\n",
       "      <td>...</td>\n",
       "      <td>...</td>\n",
       "      <td>...</td>\n",
       "      <td>...</td>\n",
       "    </tr>\n",
       "    <tr>\n",
       "      <th>14</th>\n",
       "      <td>2021-10-05</td>\n",
       "      <td>12:23:12</td>\n",
       "      <td>12:23:59</td>\n",
       "      <td>Tuesday</td>\n",
       "      <td>12:22:55</td>\n",
       "      <td>0.783333</td>\n",
       "      <td>0.283333</td>\n",
       "      <td>12</td>\n",
       "    </tr>\n",
       "    <tr>\n",
       "      <th>13</th>\n",
       "      <td>2021-10-05</td>\n",
       "      <td>12:22:21</td>\n",
       "      <td>12:22:55</td>\n",
       "      <td>Tuesday</td>\n",
       "      <td>12:18:04</td>\n",
       "      <td>0.566667</td>\n",
       "      <td>4.283333</td>\n",
       "      <td>12</td>\n",
       "    </tr>\n",
       "    <tr>\n",
       "      <th>12</th>\n",
       "      <td>2021-10-05</td>\n",
       "      <td>12:17:25</td>\n",
       "      <td>12:18:04</td>\n",
       "      <td>Tuesday</td>\n",
       "      <td>12:17:04</td>\n",
       "      <td>0.650000</td>\n",
       "      <td>0.350000</td>\n",
       "      <td>12</td>\n",
       "    </tr>\n",
       "    <tr>\n",
       "      <th>11</th>\n",
       "      <td>2021-10-05</td>\n",
       "      <td>12:16:09</td>\n",
       "      <td>12:17:04</td>\n",
       "      <td>Tuesday</td>\n",
       "      <td>12:07:04</td>\n",
       "      <td>0.916667</td>\n",
       "      <td>9.083333</td>\n",
       "      <td>12</td>\n",
       "    </tr>\n",
       "    <tr>\n",
       "      <th>10</th>\n",
       "      <td>2021-10-05</td>\n",
       "      <td>12:06:27</td>\n",
       "      <td>12:07:04</td>\n",
       "      <td>Tuesday</td>\n",
       "      <td>08:27:18</td>\n",
       "      <td>0.616667</td>\n",
       "      <td>219.150000</td>\n",
       "      <td>12</td>\n",
       "    </tr>\n",
       "  </tbody>\n",
       "</table>\n",
       "<p>73 rows × 8 columns</p>\n",
       "</div>"
      ],
      "text/plain": [
       "         Date OnlineTime OfflineTime      Day LastSeenBeforeCurrentOnlineTime  \\\n",
       "82 2021-10-05   21:14:35    21:15:57  Tuesday                        21:08:17   \n",
       "81 2021-10-05   21:07:35    21:08:17  Tuesday                        21:00:23   \n",
       "80 2021-10-05   20:59:42    21:00:23  Tuesday                        20:02:52   \n",
       "79 2021-10-05   20:02:27    20:02:52  Tuesday                        19:38:51   \n",
       "78 2021-10-05   19:37:41    19:38:51  Tuesday                        19:14:53   \n",
       "..        ...        ...         ...      ...                             ...   \n",
       "14 2021-10-05   12:23:12    12:23:59  Tuesday                        12:22:55   \n",
       "13 2021-10-05   12:22:21    12:22:55  Tuesday                        12:18:04   \n",
       "12 2021-10-05   12:17:25    12:18:04  Tuesday                        12:17:04   \n",
       "11 2021-10-05   12:16:09    12:17:04  Tuesday                        12:07:04   \n",
       "10 2021-10-05   12:06:27    12:07:04  Tuesday                        08:27:18   \n",
       "\n",
       "    OnlineDurationInMin  AwayDurationInMin  Hour  \n",
       "82             1.366667           6.300000    21  \n",
       "81             0.700000           7.200000    21  \n",
       "80             0.683333          56.833333    20  \n",
       "79             0.416667          23.600000    20  \n",
       "78             1.166667          22.800000    19  \n",
       "..                  ...                ...   ...  \n",
       "14             0.783333           0.283333    12  \n",
       "13             0.566667           4.283333    12  \n",
       "12             0.650000           0.350000    12  \n",
       "11             0.916667           9.083333    12  \n",
       "10             0.616667         219.150000    12  \n",
       "\n",
       "[73 rows x 8 columns]"
      ]
     },
     "execution_count": 7,
     "metadata": {},
     "output_type": "execute_result"
    }
   ],
   "source": [
    "df_Today=df[df[\"Date\"]==df[\"Date\"].max()].sort_values(\"OnlineTime\",ascending=False)\n",
    "df_Today\n",
    "\n",
    "#df_Today [[\"OnlineDurationInMin\",\"AwayDurationInMin\",\"Hour\"]].sort_values(\"AwayDurationInMin\",ascending=False)"
   ]
  },
  {
   "cell_type": "code",
   "execution_count": 8,
   "id": "a9094bae",
   "metadata": {
    "scrolled": false
   },
   "outputs": [
    {
     "data": {
      "text/plain": [
       "<AxesSubplot:xlabel='Hour_Column', ylabel='OnlineDurationInMin'>"
      ]
     },
     "execution_count": 8,
     "metadata": {},
     "output_type": "execute_result"
    },
    {
     "data": {
      "image/png": "[encoded data removed]",
      "text/plain": [
       "<Figure size 720x432 with 1 Axes>"
      ]
     },
     "metadata": {
      "needs_background": "light"
     },
     "output_type": "display_data"
    }
   ],
   "source": [
    "df_Today_GroupbyHour = df_Today.groupby(\"Hour\").sum(\"OnlineDurationInMin\").sort_values(\"OnlineDurationInMin\",ascending=False)\n",
    "df_Today_GroupbyHour[\"Hour_Column\"] = df_Today_GroupbyHour.index\n",
    "plt.figure(figsize=(10,6))\n",
    "sns.barplot(x=\"Hour_Column\",y=\"OnlineDurationInMin\",data=df_Today_GroupbyHour)"
   ]
  },
  {
   "cell_type": "markdown",
   "id": "b57f6e7f",
   "metadata": {},
   "source": [
    "# 2. Each day : No.of times logged in,Total/Max/Min time spent  in mins & Last sign out , first sign in for each day :\n"
   ]
  },
  {
   "cell_type": "code",
   "execution_count": 9,
   "id": "96ecd4d7",
   "metadata": {
    "scrolled": false
   },
   "outputs": [
    {
     "data": {
      "text/html": [
       "<div>\n",
       "<style scoped>\n",
       "    .dataframe tbody tr th:only-of-type {\n",
       "        vertical-align: middle;\n",
       "    }\n",
       "\n",
       "    .dataframe tbody tr th {\n",
       "        vertical-align: top;\n",
       "    }\n",
       "\n",
       "    .dataframe thead th {\n",
       "        text-align: right;\n",
       "    }\n",
       "</style>\n",
       "<table border=\"1\" class=\"dataframe\">\n",
       "  <thead>\n",
       "    <tr style=\"text-align: right;\">\n",
       "      <th></th>\n",
       "      <th>Date</th>\n",
       "      <th>No.of Times logged in</th>\n",
       "      <th>Total time spent</th>\n",
       "      <th>Sign In</th>\n",
       "      <th>Sign Out</th>\n",
       "      <th>Max time spent</th>\n",
       "      <th>Min time spent</th>\n",
       "      <th>Sign In Hour</th>\n",
       "      <th>Sign Out Hour</th>\n",
       "    </tr>\n",
       "  </thead>\n",
       "  <tbody>\n",
       "    <tr>\n",
       "      <th>2</th>\n",
       "      <td>2021-10-05</td>\n",
       "      <td>73</td>\n",
       "      <td>55.816667</td>\n",
       "      <td>12:06:27</td>\n",
       "      <td>21:15:57</td>\n",
       "      <td>4.833333</td>\n",
       "      <td>0.066667</td>\n",
       "      <td>12</td>\n",
       "      <td>21</td>\n",
       "    </tr>\n",
       "    <tr>\n",
       "      <th>1</th>\n",
       "      <td>2021-10-04</td>\n",
       "      <td>2</td>\n",
       "      <td>2.283333</td>\n",
       "      <td>07:02:12</td>\n",
       "      <td>08:27:18</td>\n",
       "      <td>1.950000</td>\n",
       "      <td>0.333333</td>\n",
       "      <td>7</td>\n",
       "      <td>8</td>\n",
       "    </tr>\n",
       "    <tr>\n",
       "      <th>0</th>\n",
       "      <td>2021-10-03</td>\n",
       "      <td>8</td>\n",
       "      <td>13.616667</td>\n",
       "      <td>13:05:44</td>\n",
       "      <td>20:53:30</td>\n",
       "      <td>4.183333</td>\n",
       "      <td>0.283333</td>\n",
       "      <td>13</td>\n",
       "      <td>20</td>\n",
       "    </tr>\n",
       "  </tbody>\n",
       "</table>\n",
       "</div>"
      ],
      "text/plain": [
       "        Date  No.of Times logged in  Total time spent   Sign In  Sign Out  \\\n",
       "2 2021-10-05                     73         55.816667  12:06:27  21:15:57   \n",
       "1 2021-10-04                      2          2.283333  07:02:12  08:27:18   \n",
       "0 2021-10-03                      8         13.616667  13:05:44  20:53:30   \n",
       "\n",
       "   Max time spent  Min time spent  Sign In Hour  Sign Out Hour  \n",
       "2        4.833333        0.066667            12             21  \n",
       "1        1.950000        0.333333             7              8  \n",
       "0        4.183333        0.283333            13             20  "
      ]
     },
     "execution_count": 9,
     "metadata": {},
     "output_type": "execute_result"
    }
   ],
   "source": [
    "df_EachDay = pd.DataFrame()\n",
    "df_EachDay[\"No.of Times logged in\"] = df.groupby(\"Date\").count()[\"OnlineTime\"]\n",
    "df_EachDay[\"Total time spent\"]=df.groupby(\"Date\").sum()[\"OnlineDurationInMin\"]\n",
    "df_EachDay[\"Sign In\"] = df.groupby(\"Date\")[\"OnlineTime\"].min()\n",
    "df_EachDay[\"Sign Out\"] = df.groupby(\"Date\")[\"OfflineTime\"].max()\n",
    "df_EachDay[\"Max time spent\"]=df.groupby(\"Date\").max()[\"OnlineDurationInMin\"]\n",
    "df_EachDay[\"Min time spent\"]=df.groupby(\"Date\").min()[\"OnlineDurationInMin\"]\n",
    "df_EachDay[\"Sign In Hour\"] = df_EachDay[\"Sign In\"].apply(Hourfinder)\n",
    "df_EachDay[\"Sign Out Hour\"] = df_EachDay[\"Sign Out\"].apply(Hourfinder)\n",
    "df_EachDay = df_EachDay.reset_index()\n",
    "df_EachDay=df_EachDay.sort_values(\"Date\",ascending=False)\n",
    "df_EachDay\n"
   ]
  },
  {
   "cell_type": "markdown",
   "id": "3d6e71c4",
   "metadata": {},
   "source": [
    "# 2.a. Days she spend most time, Have to guess why ?"
   ]
  },
  {
   "cell_type": "code",
   "execution_count": 10,
   "id": "5459fb56",
   "metadata": {},
   "outputs": [],
   "source": [
    "#df_EachDay[df_EachDay[\"Total time spent\"] >=df_EachDay[\"Total time spent\"].median()]"
   ]
  },
  {
   "cell_type": "markdown",
   "id": "6bd65142",
   "metadata": {},
   "source": [
    "# 2.b. Days she spend Least time, Have to guess why ?"
   ]
  },
  {
   "cell_type": "code",
   "execution_count": 11,
   "id": "16985997",
   "metadata": {},
   "outputs": [],
   "source": [
    "#df_EachDay[df_EachDay[\"Total time spent\"] <df_EachDay[\"Total time spent\"].median()].sort_values(\"Total time spent\")"
   ]
  },
  {
   "cell_type": "markdown",
   "id": "eefb8b26",
   "metadata": {},
   "source": [
    "# 2.c. No.of times logged in each day :"
   ]
  },
  {
   "cell_type": "code",
   "execution_count": 12,
   "id": "4ecdc679",
   "metadata": {},
   "outputs": [
    {
     "data": {
      "text/plain": [
       "<AxesSubplot:xlabel='No.of Times logged in', ylabel='Date'>"
      ]
     },
     "execution_count": 12,
     "metadata": {},
     "output_type": "execute_result"
    },
    {
     "data": {
      "image/png": "[encoded data removed]",
      "text/plain": [
       "<Figure size 1440x720 with 1 Axes>"
      ]
     },
     "metadata": {
      "needs_background": "light"
     },
     "output_type": "display_data"
    }
   ],
   "source": [
    "plt.figure(figsize=(20,10))\n",
    "sns.barplot(y=\"Date\",x=\"No.of Times logged in\",data=df_EachDay)"
   ]
  },
  {
   "cell_type": "markdown",
   "id": "733dd23e",
   "metadata": {},
   "source": [
    "# 2.d. Total time spent each day :"
   ]
  },
  {
   "cell_type": "code",
   "execution_count": 13,
   "id": "830162e1",
   "metadata": {},
   "outputs": [
    {
     "data": {
      "text/plain": [
       "<AxesSubplot:xlabel='Total time spent', ylabel='Date'>"
      ]
     },
     "execution_count": 13,
     "metadata": {},
     "output_type": "execute_result"
    },
    {
     "data": {
      "image/png": "[encoded data removed]",
      "text/plain": [
       "<Figure size 1440x720 with 1 Axes>"
      ]
     },
     "metadata": {
      "needs_background": "light"
     },
     "output_type": "display_data"
    }
   ],
   "source": [
    "plt.figure(figsize=(20,10))\n",
    "sns.barplot(y=\"Date\",x=\"Total time spent\",data=df_EachDay)"
   ]
  },
  {
   "cell_type": "markdown",
   "id": "82ff2f8f",
   "metadata": {},
   "source": [
    "# 2.e. Total time spent each day in line plot :"
   ]
  },
  {
   "cell_type": "code",
   "execution_count": 14,
   "id": "a0a3df0e",
   "metadata": {
    "scrolled": false
   },
   "outputs": [
    {
     "data": {
      "text/plain": [
       "[<matplotlib.lines.Line2D at 0x273823e5130>]"
      ]
     },
     "execution_count": 14,
     "metadata": {},
     "output_type": "execute_result"
    },
    {
     "data": {
      "image/png": "[encoded data removed]",
      "text/plain": [
       "<Figure size 1440x576 with 1 Axes>"
      ]
     },
     "metadata": {
      "needs_background": "light"
     },
     "output_type": "display_data"
    }
   ],
   "source": [
    "plt.figure(figsize=(20,8))\n",
    "plt.plot(\"Date\",\"Total time spent\",data=df_EachDay,marker = 'D',linewidth = 3,color = \"orange\",markersize= 20)"
   ]
  },
  {
   "cell_type": "code",
   "execution_count": 15,
   "id": "5973cf21",
   "metadata": {
    "scrolled": false
   },
   "outputs": [],
   "source": [
    "No_OfDays =  df_EachDay[\"Date\"].nunique()\n",
    "import array as arr\n",
    "df_arr = arr.array('f')\n",
    "sum=0\n",
    "for i in np.arange(0,No_OfDays):\n",
    "    for j in np.arange(0,i+1):\n",
    "        temp= df_EachDay.iloc[j][\"Total time spent\"]\n",
    "        sum = sum+temp\n",
    "    Avg = sum/(i+1)\n",
    "    df_arr.append(round(Avg, 2))\n",
    "    sum=0\n",
    "series = pd.Series(df_arr) \n",
    "df_AvgTimespentTrend = pd.DataFrame()\n",
    "df_AvgTimespentTrend[\"Avg\"] = series\n",
    "df_AvgTimespentTrend[\"Date\"] = df_EachDay[\"Date\"].sort_values(ascending=False)\n",
    "#plt.figure(figsize=(20,8))\n",
    "#plt.plot(\"Date\",\"Avg\",data=df_AvgTimespentTrend,marker = 'D',linewidth = 3,color = \"orange\",markersize= 20)\n",
    "#plt.xlabel(\"Date\")\n",
    "#plt.ylabel(\"Avg online time Trend\")"
   ]
  },
  {
   "cell_type": "markdown",
   "id": "3bb82403",
   "metadata": {},
   "source": [
    "# 2.f. Overall average of time spent , max time spent, min time spent :"
   ]
  },
  {
   "cell_type": "code",
   "execution_count": 16,
   "id": "6b9a1a01",
   "metadata": {},
   "outputs": [
    {
     "name": "stderr",
     "output_type": "stream",
     "text": [
      "<ipython-input-16-42bb68b678d9>:1: FutureWarning: DataFrame.mean and DataFrame.median with numeric_only=None will include datetime64 and datetime64tz columns in a future version.\n",
      "  df_OverallAvg = df_EachDay.median()\n"
     ]
    },
    {
     "data": {
      "text/plain": [
       "No.of Times logged in     8.000000\n",
       "Total time spent         13.616667\n",
       "Max time spent            4.183333\n",
       "Min time spent            0.283333\n",
       "Sign In Hour             12.000000\n",
       "Sign Out Hour            20.000000\n",
       "dtype: float64"
      ]
     },
     "execution_count": 16,
     "metadata": {},
     "output_type": "execute_result"
    }
   ],
   "source": [
    "df_OverallAvg = df_EachDay.median()\n",
    "df_OverallAvg"
   ]
  },
  {
   "cell_type": "markdown",
   "id": "aca5c7f9",
   "metadata": {},
   "source": [
    "# 3. Most Active, Least Active :"
   ]
  },
  {
   "cell_type": "markdown",
   "id": "0d28bb3f",
   "metadata": {},
   "source": [
    "#    a. Most active (**Hour is important.)"
   ]
  },
  {
   "cell_type": "code",
   "execution_count": 17,
   "id": "17f4d33f",
   "metadata": {},
   "outputs": [
    {
     "data": {
      "text/html": [
       "<div>\n",
       "<style scoped>\n",
       "    .dataframe tbody tr th:only-of-type {\n",
       "        vertical-align: middle;\n",
       "    }\n",
       "\n",
       "    .dataframe tbody tr th {\n",
       "        vertical-align: top;\n",
       "    }\n",
       "\n",
       "    .dataframe thead th {\n",
       "        text-align: right;\n",
       "    }\n",
       "</style>\n",
       "<table border=\"1\" class=\"dataframe\">\n",
       "  <thead>\n",
       "    <tr style=\"text-align: right;\">\n",
       "      <th></th>\n",
       "      <th>Hour</th>\n",
       "      <th>OnlineDurationInMin</th>\n",
       "    </tr>\n",
       "  </thead>\n",
       "  <tbody>\n",
       "    <tr>\n",
       "      <th>5</th>\n",
       "      <td>15</td>\n",
       "      <td>5.661111</td>\n",
       "    </tr>\n",
       "    <tr>\n",
       "      <th>3</th>\n",
       "      <td>13</td>\n",
       "      <td>3.805556</td>\n",
       "    </tr>\n",
       "    <tr>\n",
       "      <th>4</th>\n",
       "      <td>14</td>\n",
       "      <td>3.172222</td>\n",
       "    </tr>\n",
       "    <tr>\n",
       "      <th>10</th>\n",
       "      <td>20</td>\n",
       "      <td>3.127778</td>\n",
       "    </tr>\n",
       "    <tr>\n",
       "      <th>2</th>\n",
       "      <td>12</td>\n",
       "      <td>3.122222</td>\n",
       "    </tr>\n",
       "  </tbody>\n",
       "</table>\n",
       "</div>"
      ],
      "text/plain": [
       "    Hour  OnlineDurationInMin\n",
       "5     15             5.661111\n",
       "3     13             3.805556\n",
       "4     14             3.172222\n",
       "10    20             3.127778\n",
       "2     12             3.122222"
      ]
     },
     "execution_count": 17,
     "metadata": {},
     "output_type": "execute_result"
    }
   ],
   "source": [
    "df_Most_Least_Active = df.groupby(\"Hour\").sum(\"OnlineDurationInMin\")\n",
    "df_Most_Least_Active = df_Most_Least_Active.reset_index()\n",
    "df_Most_Least_Active[\"OnlineDurationInMin\"] = df_Most_Least_Active[\"OnlineDurationInMin\"] /df[\"Date\"].nunique()\n",
    "df_Most_Least_Active=df_Most_Least_Active.sort_values(\"OnlineDurationInMin\",ascending=False)\n",
    "df_Most_Least_Active = df_Most_Least_Active[[\"Hour\",\"OnlineDurationInMin\"]]\n",
    "df_Most_Least_Active.head()"
   ]
  },
  {
   "cell_type": "markdown",
   "id": "9afc30fe",
   "metadata": {},
   "source": [
    "#    b. Least active (**Hour is important.)"
   ]
  },
  {
   "cell_type": "code",
   "execution_count": 18,
   "id": "53f14287",
   "metadata": {},
   "outputs": [
    {
     "data": {
      "text/html": [
       "<div>\n",
       "<style scoped>\n",
       "    .dataframe tbody tr th:only-of-type {\n",
       "        vertical-align: middle;\n",
       "    }\n",
       "\n",
       "    .dataframe tbody tr th {\n",
       "        vertical-align: top;\n",
       "    }\n",
       "\n",
       "    .dataframe thead th {\n",
       "        text-align: right;\n",
       "    }\n",
       "</style>\n",
       "<table border=\"1\" class=\"dataframe\">\n",
       "  <thead>\n",
       "    <tr style=\"text-align: right;\">\n",
       "      <th></th>\n",
       "      <th>Hour</th>\n",
       "      <th>OnlineDurationInMin</th>\n",
       "    </tr>\n",
       "  </thead>\n",
       "  <tbody>\n",
       "    <tr>\n",
       "      <th>1</th>\n",
       "      <td>8</td>\n",
       "      <td>0.111111</td>\n",
       "    </tr>\n",
       "    <tr>\n",
       "      <th>8</th>\n",
       "      <td>18</td>\n",
       "      <td>0.405556</td>\n",
       "    </tr>\n",
       "    <tr>\n",
       "      <th>0</th>\n",
       "      <td>7</td>\n",
       "      <td>0.650000</td>\n",
       "    </tr>\n",
       "    <tr>\n",
       "      <th>6</th>\n",
       "      <td>16</td>\n",
       "      <td>0.666667</td>\n",
       "    </tr>\n",
       "    <tr>\n",
       "      <th>11</th>\n",
       "      <td>21</td>\n",
       "      <td>0.688889</td>\n",
       "    </tr>\n",
       "  </tbody>\n",
       "</table>\n",
       "</div>"
      ],
      "text/plain": [
       "    Hour  OnlineDurationInMin\n",
       "1      8             0.111111\n",
       "8     18             0.405556\n",
       "0      7             0.650000\n",
       "6     16             0.666667\n",
       "11    21             0.688889"
      ]
     },
     "execution_count": 18,
     "metadata": {},
     "output_type": "execute_result"
    }
   ],
   "source": [
    "df_Most_Least_Active = df_Most_Least_Active.sort_values(\"OnlineDurationInMin\")\n",
    "df_Most_Least_Active.head()"
   ]
  },
  {
   "cell_type": "markdown",
   "id": "ad0cfb28",
   "metadata": {},
   "source": [
    "# 4.a. Avg duration per hour"
   ]
  },
  {
   "cell_type": "code",
   "execution_count": 19,
   "id": "9f1f1f11",
   "metadata": {
    "scrolled": false
   },
   "outputs": [
    {
     "data": {
      "image/png": "[encoded data removed]",
      "text/plain": [
       "<Figure size 720x432 with 1 Axes>"
      ]
     },
     "metadata": {
      "needs_background": "light"
     },
     "output_type": "display_data"
    }
   ],
   "source": [
    "plt.figure(figsize=(10,6))\n",
    "sns.barplot(x=\"Hour\",y=\"OnlineDurationInMin\",data=df_Most_Least_Active)\n",
    "plt.show()"
   ]
  },
  {
   "cell_type": "markdown",
   "id": "aaddd3f4",
   "metadata": {},
   "source": [
    "# 4.b. No .Of Logins Per Hour"
   ]
  },
  {
   "cell_type": "code",
   "execution_count": 20,
   "id": "fd6ed1d0",
   "metadata": {},
   "outputs": [
    {
     "data": {
      "image/png": "[encoded data removed]",
      "text/plain": [
       "<Figure size 720x432 with 1 Axes>"
      ]
     },
     "metadata": {
      "needs_background": "light"
     },
     "output_type": "display_data"
    }
   ],
   "source": [
    "df_NoOfLoginsPerHour = df.groupby(\"Hour\").count()\n",
    "df_NoOfLoginsPerHour=df_NoOfLoginsPerHour.reset_index()\n",
    "df_NoOfLoginsPerHour[\"No .Of Logins Per Hour\"] =df_NoOfLoginsPerHour[\"Date\"]\n",
    "df_NoOfLoginsPerHour = df_NoOfLoginsPerHour[[\"Hour\",\"No .Of Logins Per Hour\"]]\n",
    "plt.figure(figsize=(10,6))\n",
    "sns.barplot(y=\"No .Of Logins Per Hour\",x=\"Hour\",data=df_NoOfLoginsPerHour)\n",
    "plt.show()"
   ]
  },
  {
   "cell_type": "markdown",
   "id": "42ffe5f7",
   "metadata": {},
   "source": [
    "# 5. Avg sign in , sign out Times"
   ]
  },
  {
   "cell_type": "markdown",
   "id": "89038baf",
   "metadata": {},
   "source": [
    "# a. Avg Sign In Hour "
   ]
  },
  {
   "cell_type": "code",
   "execution_count": 21,
   "id": "0cf755dc",
   "metadata": {},
   "outputs": [
    {
     "data": {
      "image/png": "[encoded data removed]",
      "text/plain": [
       "<Figure size 720x432 with 1 Axes>"
      ]
     },
     "metadata": {
      "needs_background": "light"
     },
     "output_type": "display_data"
    }
   ],
   "source": [
    "df_EachDay_SignInHour=df_EachDay.groupby(\"Sign In Hour\").count()\n",
    "df_EachDay_SignInHour=df_EachDay_SignInHour.reset_index()\n",
    "plt.figure(figsize=(10,6))\n",
    "sns.barplot(y=\"No.of Times logged in\",x=\"Sign In Hour\",data=df_EachDay_SignInHour)\n",
    "plt.show()\n",
    "#plt.figure(figsize=(10,8))\n",
    "#plt.pie(\"No.of Times logged in\", labels = \"Sign In Hour\", \n",
    "        #startangle=90, shadow = True, \n",
    "        #radius = 1.2, autopct = '%1.1f%%',data=df_EachDay_SignInHour)\n",
    "#plt.show()"
   ]
  },
  {
   "cell_type": "markdown",
   "id": "6913b13b",
   "metadata": {},
   "source": [
    "# b. Avg Sign out Hour "
   ]
  },
  {
   "cell_type": "code",
   "execution_count": 22,
   "id": "e827e8b7",
   "metadata": {},
   "outputs": [
    {
     "data": {
      "image/png": "[encoded data removed]",
      "text/plain": [
       "<Figure size 720x576 with 1 Axes>"
      ]
     },
     "metadata": {
      "needs_background": "light"
     },
     "output_type": "display_data"
    }
   ],
   "source": [
    "df_EachDay_SignOutHour =df_EachDay.groupby(\"Sign Out Hour\").count()\n",
    "df_EachDay_SignOutHour = df_EachDay_SignOutHour.reset_index()\n",
    "plt.figure(figsize=(10,8))\n",
    "sns.barplot(y=\"No.of Times logged in\",x=\"Sign Out Hour\",data=df_EachDay_SignOutHour)\n",
    "plt.show()\n",
    "\n",
    "#plt.figure(figsize=(10,8))\n",
    "\n",
    "#plt.pie(\"No.of Times logged in\", labels = \"Sign Out Hour\", \n",
    "        #startangle=90, shadow = True,\n",
    "        #radius = 1.2, autopct = '%1.1f%%',data=df_EachDay_SignOutHour)\n",
    "#plt.show()"
   ]
  },
  {
   "cell_type": "markdown",
   "id": "f5e7968f",
   "metadata": {},
   "source": [
    "# Plotting & Clustering"
   ]
  },
  {
   "cell_type": "markdown",
   "id": "8372ff47",
   "metadata": {},
   "source": [
    "plt.scatter(df_EachDay[\"Total time spent\"],df_EachDay[\"Date\"])"
   ]
  },
  {
   "cell_type": "markdown",
   "id": "eb6f9ed0",
   "metadata": {},
   "source": [
    "from sklearn.cluster import KMeans\n",
    "from sklearn.preprocessing import MinMaxScaler\n",
    "km = KMeans(n_clusters=3)"
   ]
  },
  {
   "cell_type": "markdown",
   "id": "d6527da0",
   "metadata": {},
   "source": [
    "df_EachDay_KMeans = df_EachDay[[\"Total time spent\",\"No.of Times logged in\"]]\n",
    "y_predict = km.fit_predict(df_EachDay_KMeans)\n",
    "df_EachDay_KMeans[\"Clusters\"] = y_predict"
   ]
  },
  {
   "cell_type": "markdown",
   "id": "bc5565e2",
   "metadata": {},
   "source": [
    "df_EachDay_KMeans_0 = df_EachDay_KMeans[df_EachDay_KMeans[\"Clusters\"] == 0]\n",
    "df_EachDay_KMeans_1 = df_EachDay_KMeans[df_EachDay_KMeans[\"Clusters\"] == 1]\n",
    "df_EachDay_KMeans_2 = df_EachDay_KMeans[df_EachDay_KMeans[\"Clusters\"] == 2]"
   ]
  },
  {
   "cell_type": "markdown",
   "id": "3fa5a6eb",
   "metadata": {},
   "source": [
    "df_EachDay_KMeans_0\n",
    "df_EachDay_KMeans_1\n",
    "df_EachDay_KMeans_2\n",
    "\n",
    "plt.scatter(df_EachDay_KMeans_0[\"Total time spent\"],df_EachDay_KMeans_0[\"No.of Times logged in\"],color = \"green\")\n",
    "plt.scatter(df_EachDay_KMeans_1[\"Total time spent\"],df_EachDay_KMeans_1[\"No.of Times logged in\"],color = \"orange\")\n",
    "plt.scatter(df_EachDay_KMeans_2[\"Total time spent\"],df_EachDay_KMeans_2[\"No.of Times logged in\"],color = \"blue\")\n",
    "\n",
    "plt.xlabel(\"Total time spent\")\n",
    "plt.ylabel(\"No.of Times logged in\")\n",
    "plt.legend()"
   ]
  },
  {
   "cell_type": "markdown",
   "id": "a5705757",
   "metadata": {},
   "source": [
    "#scaler  = MinMaxScaler()\n",
    "#scaler.fit(df_EachDay_KMeans[\"Total time spent\"])\n",
    "#df_EachDay_KMeans[\"Total time spent\"] = scaler.transform(df_EachDay_KMeans[\"Total time spent\"])\n"
   ]
  },
  {
   "cell_type": "markdown",
   "id": "8be7835e",
   "metadata": {},
   "source": [
    "plt.figure(figsize=(20,10))\n",
    "palette ={5: \"C0\", 6: \"C1\", 7: \"C2\", 8: \"C3\",9: \"C4\", 10: \"C5\", 11: \"C6\", 12: \"C7\", 13: \"C8\", 14: \"C9\", 15: \"C10\", 16: \"C11\", 17: \"C12\", 18: \"C13\", 19: \"C14\", 20: \"C15\", 21: \"C16\"}\n",
    "sns.scatterplot(y=\"OnlineDurationInMin\",x=\"AwayDurationInMin\",data=df,hue=\"Hour\",palette=palette,marker = 'D')\n",
    "plt.xlim((0,25))"
   ]
  },
  {
   "cell_type": "markdown",
   "id": "ceb3447d",
   "metadata": {},
   "source": [
    "sns.scatterplot(y=\"OnlineDurationInMin\",x=\"AwayDurationInMin\",data=df,hue=\"Hour\")\n",
    "plt.xlim((200,400))"
   ]
  },
  {
   "cell_type": "markdown",
   "id": "7f1236ff",
   "metadata": {},
   "source": [
    "sns.scatterplot(y=\"OnlineDurationInMin\",x=\"AwayDurationInMin\",data=df,hue=\"Hour\")\n",
    "plt.xlim((400,800))\n"
   ]
  },
  {
   "cell_type": "markdown",
   "id": "fb4cc9b6",
   "metadata": {},
   "source": [
    "plt.scatter(\"OnlineDurationInMin\",\"AwayDurationInMin\",data=df)\n",
    "plt.scatter(\"OnlineDurationInMin\",\"AwayDurationInMin\",data=df)"
   ]
  },
  {
   "cell_type": "markdown",
   "id": "2edab72c",
   "metadata": {},
   "source": [
    "df1_16 = df.groupby([\"Day\",\"Date\"]).size().reset_index().sort_values(\"Day\")\n",
    "df2_16 =df.groupby([\"Day\",\"Date\"]).sum().reset_index().sort_values(\"Day\")\n",
    "result = pd.concat([df1_16, df2_16], axis=1, join='inner',)"
   ]
  },
  {
   "cell_type": "markdown",
   "id": "ffd9d4a5",
   "metadata": {},
   "source": [
    "df_Today=df.sort_values(\"OnlineTime\",ascending=False)\n",
    "X=df_Today[[\"Hour\",\"AwayDurationInMin\"]]\n",
    "y=df_Today[\"OnlineDurationInMin\"]\n",
    "from sklearn.model_selection import train_test_split\n",
    "X_train, X_test, y_train, y_test = train_test_split(X, y, test_size=0.33, random_state=42)\n",
    "from sklearn.linear_model import LinearRegression\n",
    "lm = LinearRegression()\n",
    "lm.fit(X_train,y_train)\n",
    "predictions = lm.predict(X_test)\n",
    "plt.scatter(y_test,predictions)"
   ]
  },
  {
   "cell_type": "markdown",
   "id": "94be68d2",
   "metadata": {},
   "source": [
    "#print(lm.predict(X.loc[[126]]))\n",
    "#print(y.loc[[126]])"
   ]
  },
  {
   "cell_type": "markdown",
   "id": "4c15fd0b",
   "metadata": {},
   "source": [
    "sns.distplot((y_test-predictions))"
   ]
  },
  {
   "cell_type": "markdown",
   "id": "97259314",
   "metadata": {},
   "source": [
    "#sns.barplot(y=\"No.of Times logged in\",x=\"Sign In Hour\",data=df_EachDay_SignInHour)\n",
    "\n",
    "sns.distplot(df_EachDay_SignInHour[\"Sign In Hour\"])"
   ]
  },
  {
   "cell_type": "markdown",
   "id": "f7c275a6",
   "metadata": {},
   "source": [
    "df_AvgTimespentTrend"
   ]
  },
  {
   "cell_type": "markdown",
   "id": "55a69def",
   "metadata": {},
   "source": [
    "No_OfDays =  df_EachDay[\"Date\"].nunique()\n",
    "import array as arr\n",
    "df_arr = arr.array('f')\n",
    "sum=0\n",
    "for i in np.arange(0,No_OfDays):\n",
    "    for j in np.arange(0,i+1):\n",
    "        temp= df_EachDay.iloc[j][\"Total time spent\"]\n",
    "        sum = sum+temp\n",
    "    Avg = sum/(i+1)\n",
    "    df_arr.append(round(Avg, 2))\n",
    "    sum=0\n",
    "series = pd.Series(df_arr) \n",
    "df_AvgTimespentTrend = pd.DataFrame()\n",
    "df_AvgTimespentTrend[\"Avg\"] = series"
   ]
  },
  {
   "cell_type": "markdown",
   "id": "1533bc77",
   "metadata": {},
   "source": [
    "df_EachDay= df_EachDay.sort_values(\"Date\")\n",
    "df_EachDay[\"AvgTimespentTrend\"]=df_AvgTimespentTrend[\"Avg\"]\n",
    "df_EachDay\n",
    "#series"
   ]
  },
  {
   "cell_type": "code",
   "execution_count": 23,
   "id": "6026f704",
   "metadata": {},
   "outputs": [
    {
     "data": {
      "text/plain": [
       "<Figure size 720x432 with 0 Axes>"
      ]
     },
     "metadata": {},
     "output_type": "display_data"
    },
    {
     "data": {
      "text/html": [
       "<div>\n",
       "<style scoped>\n",
       "    .dataframe tbody tr th:only-of-type {\n",
       "        vertical-align: middle;\n",
       "    }\n",
       "\n",
       "    .dataframe tbody tr th {\n",
       "        vertical-align: top;\n",
       "    }\n",
       "\n",
       "    .dataframe thead th {\n",
       "        text-align: right;\n",
       "    }\n",
       "</style>\n",
       "<table border=\"1\" class=\"dataframe\">\n",
       "  <thead>\n",
       "    <tr style=\"text-align: right;\">\n",
       "      <th></th>\n",
       "      <th>Date_x</th>\n",
       "      <th>OnlineTime</th>\n",
       "      <th>OfflineTime</th>\n",
       "      <th>Day</th>\n",
       "      <th>LastSeenBeforeCurrentOnlineTime</th>\n",
       "      <th>OnlineDurationInMin</th>\n",
       "      <th>AwayDurationInMin_x</th>\n",
       "      <th>Hour_x</th>\n",
       "      <th>Date_y</th>\n",
       "      <th>AwayDurationInMin_y</th>\n",
       "      <th>Hour_y</th>\n",
       "    </tr>\n",
       "  </thead>\n",
       "  <tbody>\n",
       "    <tr>\n",
       "      <th>0</th>\n",
       "      <td>2021-10-03</td>\n",
       "      <td>20:48:11</td>\n",
       "      <td>20:52:22</td>\n",
       "      <td>Sunday</td>\n",
       "      <td>20:47:14</td>\n",
       "      <td>4.183333</td>\n",
       "      <td>0.95</td>\n",
       "      <td>20</td>\n",
       "      <td>2021-10-03</td>\n",
       "      <td>391.483333</td>\n",
       "      <td>20</td>\n",
       "    </tr>\n",
       "    <tr>\n",
       "      <th>1</th>\n",
       "      <td>2021-10-04</td>\n",
       "      <td>07:02:12</td>\n",
       "      <td>07:04:09</td>\n",
       "      <td>Monday</td>\n",
       "      <td>20:53:30</td>\n",
       "      <td>1.950000</td>\n",
       "      <td>608.70</td>\n",
       "      <td>7</td>\n",
       "      <td>2021-10-04</td>\n",
       "      <td>608.700000</td>\n",
       "      <td>8</td>\n",
       "    </tr>\n",
       "    <tr>\n",
       "      <th>2</th>\n",
       "      <td>2021-10-05</td>\n",
       "      <td>15:31:41</td>\n",
       "      <td>15:36:31</td>\n",
       "      <td>Tuesday</td>\n",
       "      <td>15:31:38</td>\n",
       "      <td>4.833333</td>\n",
       "      <td>0.05</td>\n",
       "      <td>15</td>\n",
       "      <td>2021-10-05</td>\n",
       "      <td>219.150000</td>\n",
       "      <td>21</td>\n",
       "    </tr>\n",
       "  </tbody>\n",
       "</table>\n",
       "</div>"
      ],
      "text/plain": [
       "      Date_x OnlineTime OfflineTime      Day LastSeenBeforeCurrentOnlineTime  \\\n",
       "0 2021-10-03   20:48:11    20:52:22   Sunday                        20:47:14   \n",
       "1 2021-10-04   07:02:12    07:04:09   Monday                        20:53:30   \n",
       "2 2021-10-05   15:31:41    15:36:31  Tuesday                        15:31:38   \n",
       "\n",
       "   OnlineDurationInMin  AwayDurationInMin_x  Hour_x     Date_y  \\\n",
       "0             4.183333                 0.95      20 2021-10-03   \n",
       "1             1.950000               608.70       7 2021-10-04   \n",
       "2             4.833333                 0.05      15 2021-10-05   \n",
       "\n",
       "   AwayDurationInMin_y  Hour_y  \n",
       "0           391.483333      20  \n",
       "1           608.700000       8  \n",
       "2           219.150000      21  "
      ]
     },
     "execution_count": 23,
     "metadata": {},
     "output_type": "execute_result"
    }
   ],
   "source": [
    "df_MaxTimespentHour=df.groupby(\"Date\").max(\"OnlineDurationInMin\")\n",
    "df_MaxTimespentHour=df_MaxTimespentHour.reset_index()\n",
    "df_MaxTimespentHour=pd.merge(df,df_MaxTimespentHour,on='OnlineDurationInMin')\n",
    "plt.figure(figsize=(10,6))\n",
    "#sns.barplot(y=\"Date_x\",x=\"Hour_x\",data=df_MaxTimespentHour)\n",
    "plt.show()\n",
    "df_MaxTimespentHour"
   ]
  },
  {
   "cell_type": "code",
   "execution_count": 24,
   "id": "08b11bef",
   "metadata": {},
   "outputs": [
    {
     "data": {
      "text/html": [
       "<div>\n",
       "<style scoped>\n",
       "    .dataframe tbody tr th:only-of-type {\n",
       "        vertical-align: middle;\n",
       "    }\n",
       "\n",
       "    .dataframe tbody tr th {\n",
       "        vertical-align: top;\n",
       "    }\n",
       "\n",
       "    .dataframe thead th {\n",
       "        text-align: right;\n",
       "    }\n",
       "</style>\n",
       "<table border=\"1\" class=\"dataframe\">\n",
       "  <thead>\n",
       "    <tr style=\"text-align: right;\">\n",
       "      <th></th>\n",
       "      <th>Date_x</th>\n",
       "      <th>OnlineTime</th>\n",
       "      <th>OfflineTime</th>\n",
       "      <th>Day</th>\n",
       "      <th>LastSeenBeforeCurrentOnlineTime</th>\n",
       "      <th>OnlineDurationInMin</th>\n",
       "      <th>AwayDurationInMin_x</th>\n",
       "      <th>Hour_x</th>\n",
       "      <th>Date_y</th>\n",
       "      <th>AwayDurationInMin_y</th>\n",
       "      <th>Hour_y</th>\n",
       "    </tr>\n",
       "  </thead>\n",
       "  <tbody>\n",
       "    <tr>\n",
       "      <th>0</th>\n",
       "      <td>2021-10-03</td>\n",
       "      <td>20:48:11</td>\n",
       "      <td>20:52:22</td>\n",
       "      <td>Sunday</td>\n",
       "      <td>20:47:14</td>\n",
       "      <td>4.183333</td>\n",
       "      <td>0.95</td>\n",
       "      <td>20</td>\n",
       "      <td>2021-10-03</td>\n",
       "      <td>391.483333</td>\n",
       "      <td>20</td>\n",
       "    </tr>\n",
       "    <tr>\n",
       "      <th>1</th>\n",
       "      <td>2021-10-04</td>\n",
       "      <td>07:02:12</td>\n",
       "      <td>07:04:09</td>\n",
       "      <td>Monday</td>\n",
       "      <td>20:53:30</td>\n",
       "      <td>1.950000</td>\n",
       "      <td>608.70</td>\n",
       "      <td>7</td>\n",
       "      <td>2021-10-04</td>\n",
       "      <td>608.700000</td>\n",
       "      <td>8</td>\n",
       "    </tr>\n",
       "    <tr>\n",
       "      <th>2</th>\n",
       "      <td>2021-10-05</td>\n",
       "      <td>15:31:41</td>\n",
       "      <td>15:36:31</td>\n",
       "      <td>Tuesday</td>\n",
       "      <td>15:31:38</td>\n",
       "      <td>4.833333</td>\n",
       "      <td>0.05</td>\n",
       "      <td>15</td>\n",
       "      <td>2021-10-05</td>\n",
       "      <td>219.150000</td>\n",
       "      <td>21</td>\n",
       "    </tr>\n",
       "  </tbody>\n",
       "</table>\n",
       "</div>"
      ],
      "text/plain": [
       "      Date_x OnlineTime OfflineTime      Day LastSeenBeforeCurrentOnlineTime  \\\n",
       "0 2021-10-03   20:48:11    20:52:22   Sunday                        20:47:14   \n",
       "1 2021-10-04   07:02:12    07:04:09   Monday                        20:53:30   \n",
       "2 2021-10-05   15:31:41    15:36:31  Tuesday                        15:31:38   \n",
       "\n",
       "   OnlineDurationInMin  AwayDurationInMin_x  Hour_x     Date_y  \\\n",
       "0             4.183333                 0.95      20 2021-10-03   \n",
       "1             1.950000               608.70       7 2021-10-04   \n",
       "2             4.833333                 0.05      15 2021-10-05   \n",
       "\n",
       "   AwayDurationInMin_y  Hour_y  \n",
       "0           391.483333      20  \n",
       "1           608.700000       8  \n",
       "2           219.150000      21  "
      ]
     },
     "execution_count": 24,
     "metadata": {},
     "output_type": "execute_result"
    }
   ],
   "source": [
    "df_MaxTimespentHour"
   ]
  },
  {
   "cell_type": "code",
   "execution_count": 25,
   "id": "a64a8514",
   "metadata": {},
   "outputs": [
    {
     "data": {
      "text/html": [
       "<div>\n",
       "<style scoped>\n",
       "    .dataframe tbody tr th:only-of-type {\n",
       "        vertical-align: middle;\n",
       "    }\n",
       "\n",
       "    .dataframe tbody tr th {\n",
       "        vertical-align: top;\n",
       "    }\n",
       "\n",
       "    .dataframe thead th {\n",
       "        text-align: right;\n",
       "    }\n",
       "</style>\n",
       "<table border=\"1\" class=\"dataframe\">\n",
       "  <thead>\n",
       "    <tr style=\"text-align: right;\">\n",
       "      <th></th>\n",
       "      <th>Date</th>\n",
       "      <th>No.of Times logged in</th>\n",
       "      <th>Total time spent</th>\n",
       "      <th>Sign In</th>\n",
       "      <th>Sign Out</th>\n",
       "      <th>Max time spent</th>\n",
       "      <th>Min time spent</th>\n",
       "      <th>Sign In Hour</th>\n",
       "      <th>Sign Out Hour</th>\n",
       "    </tr>\n",
       "  </thead>\n",
       "  <tbody>\n",
       "    <tr>\n",
       "      <th>2</th>\n",
       "      <td>2021-10-05</td>\n",
       "      <td>73</td>\n",
       "      <td>55.816667</td>\n",
       "      <td>12:06:27</td>\n",
       "      <td>21:15:57</td>\n",
       "      <td>4.833333</td>\n",
       "      <td>0.066667</td>\n",
       "      <td>12</td>\n",
       "      <td>21</td>\n",
       "    </tr>\n",
       "    <tr>\n",
       "      <th>0</th>\n",
       "      <td>2021-10-03</td>\n",
       "      <td>8</td>\n",
       "      <td>13.616667</td>\n",
       "      <td>13:05:44</td>\n",
       "      <td>20:53:30</td>\n",
       "      <td>4.183333</td>\n",
       "      <td>0.283333</td>\n",
       "      <td>13</td>\n",
       "      <td>20</td>\n",
       "    </tr>\n",
       "    <tr>\n",
       "      <th>1</th>\n",
       "      <td>2021-10-04</td>\n",
       "      <td>2</td>\n",
       "      <td>2.283333</td>\n",
       "      <td>07:02:12</td>\n",
       "      <td>08:27:18</td>\n",
       "      <td>1.950000</td>\n",
       "      <td>0.333333</td>\n",
       "      <td>7</td>\n",
       "      <td>8</td>\n",
       "    </tr>\n",
       "  </tbody>\n",
       "</table>\n",
       "</div>"
      ],
      "text/plain": [
       "        Date  No.of Times logged in  Total time spent   Sign In  Sign Out  \\\n",
       "2 2021-10-05                     73         55.816667  12:06:27  21:15:57   \n",
       "0 2021-10-03                      8         13.616667  13:05:44  20:53:30   \n",
       "1 2021-10-04                      2          2.283333  07:02:12  08:27:18   \n",
       "\n",
       "   Max time spent  Min time spent  Sign In Hour  Sign Out Hour  \n",
       "2        4.833333        0.066667            12             21  \n",
       "0        4.183333        0.283333            13             20  \n",
       "1        1.950000        0.333333             7              8  "
      ]
     },
     "execution_count": 25,
     "metadata": {},
     "output_type": "execute_result"
    }
   ],
   "source": [
    "df_EachDay.sort_values(\"Total time spent\",ascending=False)"
   ]
  },
  {
   "cell_type": "code",
   "execution_count": null,
   "id": "9164b740",
   "metadata": {},
   "outputs": [],
   "source": []
  }
 ],
 "metadata": {
  "kernelspec": {
   "display_name": "Python 3",
   "language": "python",
   "name": "python3"
  },
  "language_info": {
   "codemirror_mode": {
    "name": "ipython",
    "version": 3
   },
   "file_extension": ".py",
   "mimetype": "text/x-python",
   "name": "python",
   "nbconvert_exporter": "python",
   "pygments_lexer": "ipython3",
   "version": "3.8.8"
  }
 },
 "nbformat": 4,
 "nbformat_minor": 5
}
