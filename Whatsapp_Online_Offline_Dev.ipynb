{
 "cells": [
  {
   "cell_type": "code",
   "execution_count": 1,
   "id": "4d57f804",
   "metadata": {
    "scrolled": true
   },
   "outputs": [],
   "source": [
    "from datetime import datetime\n",
    "import pandas as pd\n",
    "import calendar\n",
    "import matplotlib.pyplot as plt\n",
    "%matplotlib inline  \n",
    "import seaborn as sns\n",
    "import numpy as np\n",
    "\n",
    "df = pd.read_csv(\"whatsapp_Dev.csv\")"
   ]
  },
  {
   "cell_type": "markdown",
   "id": "08f258d0",
   "metadata": {},
   "source": [
    "# i. Finding the Day :"
   ]
  },
  {
   "cell_type": "code",
   "execution_count": 2,
   "id": "feafc41c",
   "metadata": {},
   "outputs": [],
   "source": [
    "def Dayfinder(Date):\n",
    "    date_time_obj3 = datetime.strptime(Date, '%m/%d/%Y')\n",
    "    return calendar.day_name[date_time_obj3.weekday()]\n",
    "\n",
    "df[\"Day\"] = df[\"Date\"].apply(Dayfinder)\n"
   ]
  },
  {
   "cell_type": "markdown",
   "id": "b7ff8f7b",
   "metadata": {},
   "source": [
    "# ii. Adding LastSeenBeforeCurrentOnlineTime column :"
   ]
  },
  {
   "cell_type": "code",
   "execution_count": 3,
   "id": "680b20ff",
   "metadata": {},
   "outputs": [],
   "source": [
    "df[\"LastSeenBeforeCurrentOnlineTime\"] = df[\"OnlineTime\"].loc[0]\n",
    "for i in np.arange(1,df[\"OnlineTime\"].count()):   \n",
    "    df[\"LastSeenBeforeCurrentOnlineTime\"].loc[i]=df[\"OfflineTime\"].loc[i-1]"
   ]
  },
  {
   "cell_type": "markdown",
   "id": "5eea25cf",
   "metadata": {},
   "source": [
    "# iii. Finding the Duration :"
   ]
  },
  {
   "cell_type": "code",
   "execution_count": 4,
   "id": "64c1a676",
   "metadata": {},
   "outputs": [],
   "source": [
    "def Durationfinder(OfflineTime,OnlineTime):\n",
    "    OfflineTime = datetime.strptime(OfflineTime, '%H:%M:%S')\n",
    "    OnlineTime = datetime.strptime(OnlineTime, '%H:%M:%S')\n",
    "    return ((OfflineTime-OnlineTime).seconds)/60\n",
    "\n",
    "df[\"OnlineDurationInMin\"] = df[[\"OfflineTime\",\"OnlineTime\"]].apply(lambda df : Durationfinder(df[\"OfflineTime\"],df[\"OnlineTime\"]),axis=1)\n",
    "df[\"AwayDurationInMin\"] = df[[\"OnlineTime\",\"LastSeenBeforeCurrentOnlineTime\"]].apply(lambda df : Durationfinder(df[\"OnlineTime\"],df[\"LastSeenBeforeCurrentOnlineTime\"]),axis=1)\n"
   ]
  },
  {
   "cell_type": "markdown",
   "id": "0f7cf25e",
   "metadata": {},
   "source": [
    "# iv. Finding the Hour :"
   ]
  },
  {
   "cell_type": "code",
   "execution_count": 5,
   "id": "92cd9fae",
   "metadata": {},
   "outputs": [],
   "source": [
    "def Hourfinder(OnlineTime):\n",
    "    date_time_obj4 = datetime.strptime(OnlineTime, '%H:%M:%S')\n",
    "    return date_time_obj4.hour\n",
    "\n",
    "df[\"Hour\"] = df[\"OnlineTime\"].apply(Hourfinder)\n"
   ]
  },
  {
   "cell_type": "markdown",
   "id": "1562c357",
   "metadata": {},
   "source": [
    "# v. Converting String to Date :\n"
   ]
  },
  {
   "cell_type": "code",
   "execution_count": 6,
   "id": "fa7bc3e8",
   "metadata": {},
   "outputs": [],
   "source": [
    "def DateStrToDateConv(Date):\n",
    "    return datetime.strptime(Date, '%m/%d/%Y')\n",
    "\n",
    "df[\"Date\"] = df[\"Date\"].apply(DateStrToDateConv)\n"
   ]
  },
  {
   "cell_type": "markdown",
   "id": "7f815ef9",
   "metadata": {},
   "source": [
    "# 1.Today's data:"
   ]
  },
  {
   "cell_type": "code",
   "execution_count": 7,
   "id": "6fd8c097",
   "metadata": {},
   "outputs": [
    {
     "data": {
      "text/html": [
       "<div>\n",
       "<style scoped>\n",
       "    .dataframe tbody tr th:only-of-type {\n",
       "        vertical-align: middle;\n",
       "    }\n",
       "\n",
       "    .dataframe tbody tr th {\n",
       "        vertical-align: top;\n",
       "    }\n",
       "\n",
       "    .dataframe thead th {\n",
       "        text-align: right;\n",
       "    }\n",
       "</style>\n",
       "<table border=\"1\" class=\"dataframe\">\n",
       "  <thead>\n",
       "    <tr style=\"text-align: right;\">\n",
       "      <th></th>\n",
       "      <th>Date</th>\n",
       "      <th>OnlineTime</th>\n",
       "      <th>OfflineTime</th>\n",
       "      <th>Day</th>\n",
       "      <th>LastSeenBeforeCurrentOnlineTime</th>\n",
       "      <th>OnlineDurationInMin</th>\n",
       "      <th>AwayDurationInMin</th>\n",
       "      <th>Hour</th>\n",
       "    </tr>\n",
       "  </thead>\n",
       "  <tbody>\n",
       "    <tr>\n",
       "      <th>265</th>\n",
       "      <td>2021-10-21</td>\n",
       "      <td>09:16:31</td>\n",
       "      <td>09:17:53</td>\n",
       "      <td>Thursday</td>\n",
       "      <td>09:16:08</td>\n",
       "      <td>1.366667</td>\n",
       "      <td>0.383333</td>\n",
       "      <td>9</td>\n",
       "    </tr>\n",
       "    <tr>\n",
       "      <th>264</th>\n",
       "      <td>2021-10-21</td>\n",
       "      <td>09:15:47</td>\n",
       "      <td>09:16:08</td>\n",
       "      <td>Thursday</td>\n",
       "      <td>18:26:52</td>\n",
       "      <td>0.350000</td>\n",
       "      <td>888.916667</td>\n",
       "      <td>9</td>\n",
       "    </tr>\n",
       "  </tbody>\n",
       "</table>\n",
       "</div>"
      ],
      "text/plain": [
       "          Date OnlineTime OfflineTime       Day  \\\n",
       "265 2021-10-21   09:16:31    09:17:53  Thursday   \n",
       "264 2021-10-21   09:15:47    09:16:08  Thursday   \n",
       "\n",
       "    LastSeenBeforeCurrentOnlineTime  OnlineDurationInMin  AwayDurationInMin  \\\n",
       "265                        09:16:08             1.366667           0.383333   \n",
       "264                        18:26:52             0.350000         888.916667   \n",
       "\n",
       "     Hour  \n",
       "265     9  \n",
       "264     9  "
      ]
     },
     "execution_count": 7,
     "metadata": {},
     "output_type": "execute_result"
    }
   ],
   "source": [
    "df_Today=df[df[\"Date\"]==df[\"Date\"].max()].sort_values(\"OnlineTime\",ascending=False)\n",
    "df_Today"
   ]
  },
  {
   "cell_type": "markdown",
   "id": "bb46a4be",
   "metadata": {},
   "source": [
    "# 1.a. How much time she spent on each hour for today :"
   ]
  },
  {
   "cell_type": "code",
   "execution_count": 8,
   "id": "a9094bae",
   "metadata": {},
   "outputs": [
    {
     "data": {
      "image/png": "[encoded data removed]",
      "text/plain": [
       "<Figure size 720x432 with 1 Axes>"
      ]
     },
     "metadata": {
      "needs_background": "light"
     },
     "output_type": "display_data"
    }
   ],
   "source": [
    "df_Today_GroupbyHour = df_Today.groupby(\"Hour\").sum(\"OnlineDurationInMin\").sort_values(\"OnlineDurationInMin\",ascending=False)\n",
    "df_Today_GroupbyHour[\"Hour_Column\"] = df_Today_GroupbyHour.index\n",
    "plt.figure(figsize=(10,6))\n",
    "sns.barplot(x=\"Hour_Column\",y=\"OnlineDurationInMin\",data=df_Today_GroupbyHour)\n",
    "plt.show()"
   ]
  },
  {
   "cell_type": "markdown",
   "id": "b57f6e7f",
   "metadata": {},
   "source": [
    "# 2. Each day : No.of times logged in,Total/Max/Min time spent  in mins & Last sign out , first sign in for each day :\n"
   ]
  },
  {
   "cell_type": "code",
   "execution_count": 9,
   "id": "96ecd4d7",
   "metadata": {
    "scrolled": false
   },
   "outputs": [
    {
     "data": {
      "text/html": [
       "<div>\n",
       "<style scoped>\n",
       "    .dataframe tbody tr th:only-of-type {\n",
       "        vertical-align: middle;\n",
       "    }\n",
       "\n",
       "    .dataframe tbody tr th {\n",
       "        vertical-align: top;\n",
       "    }\n",
       "\n",
       "    .dataframe thead th {\n",
       "        text-align: right;\n",
       "    }\n",
       "</style>\n",
       "<table border=\"1\" class=\"dataframe\">\n",
       "  <thead>\n",
       "    <tr style=\"text-align: right;\">\n",
       "      <th></th>\n",
       "      <th>Date</th>\n",
       "      <th>No.of Times logged in</th>\n",
       "      <th>Total time spent</th>\n",
       "      <th>Sign In</th>\n",
       "      <th>Sign Out</th>\n",
       "      <th>Max time spent</th>\n",
       "      <th>Min time spent</th>\n",
       "      <th>Sign In Hour</th>\n",
       "      <th>Sign Out Hour</th>\n",
       "    </tr>\n",
       "  </thead>\n",
       "  <tbody>\n",
       "    <tr>\n",
       "      <th>31</th>\n",
       "      <td>2021-10-21</td>\n",
       "      <td>2</td>\n",
       "      <td>1.716667</td>\n",
       "      <td>09:15:47</td>\n",
       "      <td>09:17:53</td>\n",
       "      <td>1.366667</td>\n",
       "      <td>0.350000</td>\n",
       "      <td>9</td>\n",
       "      <td>9</td>\n",
       "    </tr>\n",
       "    <tr>\n",
       "      <th>30</th>\n",
       "      <td>2021-10-20</td>\n",
       "      <td>10</td>\n",
       "      <td>23.550000</td>\n",
       "      <td>07:11:52</td>\n",
       "      <td>18:26:52</td>\n",
       "      <td>4.533333</td>\n",
       "      <td>0.983333</td>\n",
       "      <td>7</td>\n",
       "      <td>18</td>\n",
       "    </tr>\n",
       "    <tr>\n",
       "      <th>29</th>\n",
       "      <td>2021-10-19</td>\n",
       "      <td>5</td>\n",
       "      <td>15.800000</td>\n",
       "      <td>08:56:12</td>\n",
       "      <td>21:35:36</td>\n",
       "      <td>5.533333</td>\n",
       "      <td>0.600000</td>\n",
       "      <td>8</td>\n",
       "      <td>21</td>\n",
       "    </tr>\n",
       "    <tr>\n",
       "      <th>28</th>\n",
       "      <td>2021-10-18</td>\n",
       "      <td>2</td>\n",
       "      <td>13.433333</td>\n",
       "      <td>09:27:27</td>\n",
       "      <td>19:28:42</td>\n",
       "      <td>10.550000</td>\n",
       "      <td>2.883333</td>\n",
       "      <td>9</td>\n",
       "      <td>19</td>\n",
       "    </tr>\n",
       "    <tr>\n",
       "      <th>27</th>\n",
       "      <td>2021-10-17</td>\n",
       "      <td>15</td>\n",
       "      <td>38.433333</td>\n",
       "      <td>06:17:06</td>\n",
       "      <td>19:54:03</td>\n",
       "      <td>10.850000</td>\n",
       "      <td>0.250000</td>\n",
       "      <td>6</td>\n",
       "      <td>19</td>\n",
       "    </tr>\n",
       "    <tr>\n",
       "      <th>26</th>\n",
       "      <td>2021-10-16</td>\n",
       "      <td>6</td>\n",
       "      <td>22.633333</td>\n",
       "      <td>10:26:50</td>\n",
       "      <td>19:36:20</td>\n",
       "      <td>7.000000</td>\n",
       "      <td>1.266667</td>\n",
       "      <td>10</td>\n",
       "      <td>19</td>\n",
       "    </tr>\n",
       "    <tr>\n",
       "      <th>25</th>\n",
       "      <td>2021-10-15</td>\n",
       "      <td>6</td>\n",
       "      <td>20.900000</td>\n",
       "      <td>09:15:45</td>\n",
       "      <td>19:07:23</td>\n",
       "      <td>8.250000</td>\n",
       "      <td>0.800000</td>\n",
       "      <td>9</td>\n",
       "      <td>19</td>\n",
       "    </tr>\n",
       "    <tr>\n",
       "      <th>24</th>\n",
       "      <td>2021-10-14</td>\n",
       "      <td>8</td>\n",
       "      <td>24.500000</td>\n",
       "      <td>08:54:14</td>\n",
       "      <td>20:29:38</td>\n",
       "      <td>6.700000</td>\n",
       "      <td>0.283333</td>\n",
       "      <td>8</td>\n",
       "      <td>20</td>\n",
       "    </tr>\n",
       "    <tr>\n",
       "      <th>23</th>\n",
       "      <td>2021-10-13</td>\n",
       "      <td>3</td>\n",
       "      <td>9.683333</td>\n",
       "      <td>09:05:17</td>\n",
       "      <td>10:02:12</td>\n",
       "      <td>5.466667</td>\n",
       "      <td>0.283333</td>\n",
       "      <td>9</td>\n",
       "      <td>10</td>\n",
       "    </tr>\n",
       "    <tr>\n",
       "      <th>22</th>\n",
       "      <td>2021-10-12</td>\n",
       "      <td>14</td>\n",
       "      <td>52.583333</td>\n",
       "      <td>14:15:12</td>\n",
       "      <td>21:44:22</td>\n",
       "      <td>10.583333</td>\n",
       "      <td>0.400000</td>\n",
       "      <td>14</td>\n",
       "      <td>21</td>\n",
       "    </tr>\n",
       "    <tr>\n",
       "      <th>21</th>\n",
       "      <td>2021-10-11</td>\n",
       "      <td>11</td>\n",
       "      <td>26.566667</td>\n",
       "      <td>07:11:58</td>\n",
       "      <td>20:14:54</td>\n",
       "      <td>5.500000</td>\n",
       "      <td>0.150000</td>\n",
       "      <td>7</td>\n",
       "      <td>20</td>\n",
       "    </tr>\n",
       "    <tr>\n",
       "      <th>20</th>\n",
       "      <td>2021-10-10</td>\n",
       "      <td>11</td>\n",
       "      <td>22.083333</td>\n",
       "      <td>06:58:26</td>\n",
       "      <td>20:31:12</td>\n",
       "      <td>6.733333</td>\n",
       "      <td>0.183333</td>\n",
       "      <td>6</td>\n",
       "      <td>20</td>\n",
       "    </tr>\n",
       "    <tr>\n",
       "      <th>19</th>\n",
       "      <td>2021-10-09</td>\n",
       "      <td>5</td>\n",
       "      <td>21.483333</td>\n",
       "      <td>11:37:43</td>\n",
       "      <td>21:09:33</td>\n",
       "      <td>8.900000</td>\n",
       "      <td>0.450000</td>\n",
       "      <td>11</td>\n",
       "      <td>21</td>\n",
       "    </tr>\n",
       "    <tr>\n",
       "      <th>18</th>\n",
       "      <td>2021-10-08</td>\n",
       "      <td>9</td>\n",
       "      <td>27.683333</td>\n",
       "      <td>15:17:08</td>\n",
       "      <td>21:29:25</td>\n",
       "      <td>6.733333</td>\n",
       "      <td>0.266667</td>\n",
       "      <td>15</td>\n",
       "      <td>21</td>\n",
       "    </tr>\n",
       "    <tr>\n",
       "      <th>17</th>\n",
       "      <td>2021-10-07</td>\n",
       "      <td>5</td>\n",
       "      <td>26.600000</td>\n",
       "      <td>08:10:28</td>\n",
       "      <td>16:18:37</td>\n",
       "      <td>13.450000</td>\n",
       "      <td>0.383333</td>\n",
       "      <td>8</td>\n",
       "      <td>16</td>\n",
       "    </tr>\n",
       "    <tr>\n",
       "      <th>16</th>\n",
       "      <td>2021-10-06</td>\n",
       "      <td>10</td>\n",
       "      <td>25.066667</td>\n",
       "      <td>08:14:22</td>\n",
       "      <td>19:56:24</td>\n",
       "      <td>8.300000</td>\n",
       "      <td>0.550000</td>\n",
       "      <td>8</td>\n",
       "      <td>19</td>\n",
       "    </tr>\n",
       "    <tr>\n",
       "      <th>15</th>\n",
       "      <td>2021-10-05</td>\n",
       "      <td>3</td>\n",
       "      <td>25.566667</td>\n",
       "      <td>08:01:59</td>\n",
       "      <td>21:25:08</td>\n",
       "      <td>13.650000</td>\n",
       "      <td>5.883333</td>\n",
       "      <td>8</td>\n",
       "      <td>21</td>\n",
       "    </tr>\n",
       "    <tr>\n",
       "      <th>14</th>\n",
       "      <td>2021-10-04</td>\n",
       "      <td>12</td>\n",
       "      <td>27.483333</td>\n",
       "      <td>06:46:38</td>\n",
       "      <td>21:02:38</td>\n",
       "      <td>8.816667</td>\n",
       "      <td>0.116667</td>\n",
       "      <td>6</td>\n",
       "      <td>21</td>\n",
       "    </tr>\n",
       "    <tr>\n",
       "      <th>13</th>\n",
       "      <td>2021-10-03</td>\n",
       "      <td>5</td>\n",
       "      <td>18.133333</td>\n",
       "      <td>08:51:47</td>\n",
       "      <td>13:05:31</td>\n",
       "      <td>9.600000</td>\n",
       "      <td>0.883333</td>\n",
       "      <td>8</td>\n",
       "      <td>13</td>\n",
       "    </tr>\n",
       "    <tr>\n",
       "      <th>12</th>\n",
       "      <td>2021-10-02</td>\n",
       "      <td>10</td>\n",
       "      <td>19.233333</td>\n",
       "      <td>06:44:03</td>\n",
       "      <td>20:08:16</td>\n",
       "      <td>3.550000</td>\n",
       "      <td>0.433333</td>\n",
       "      <td>6</td>\n",
       "      <td>20</td>\n",
       "    </tr>\n",
       "    <tr>\n",
       "      <th>11</th>\n",
       "      <td>2021-10-01</td>\n",
       "      <td>11</td>\n",
       "      <td>24.583333</td>\n",
       "      <td>08:23:05</td>\n",
       "      <td>16:13:36</td>\n",
       "      <td>8.233333</td>\n",
       "      <td>0.150000</td>\n",
       "      <td>8</td>\n",
       "      <td>16</td>\n",
       "    </tr>\n",
       "    <tr>\n",
       "      <th>10</th>\n",
       "      <td>2021-09-30</td>\n",
       "      <td>22</td>\n",
       "      <td>69.950000</td>\n",
       "      <td>07:01:06</td>\n",
       "      <td>20:58:42</td>\n",
       "      <td>8.983333</td>\n",
       "      <td>0.283333</td>\n",
       "      <td>7</td>\n",
       "      <td>20</td>\n",
       "    </tr>\n",
       "    <tr>\n",
       "      <th>9</th>\n",
       "      <td>2021-09-29</td>\n",
       "      <td>6</td>\n",
       "      <td>21.983333</td>\n",
       "      <td>11:31:32</td>\n",
       "      <td>20:42:44</td>\n",
       "      <td>8.350000</td>\n",
       "      <td>0.350000</td>\n",
       "      <td>11</td>\n",
       "      <td>20</td>\n",
       "    </tr>\n",
       "    <tr>\n",
       "      <th>8</th>\n",
       "      <td>2021-09-28</td>\n",
       "      <td>5</td>\n",
       "      <td>11.250000</td>\n",
       "      <td>17:31:44</td>\n",
       "      <td>20:00:59</td>\n",
       "      <td>5.350000</td>\n",
       "      <td>0.400000</td>\n",
       "      <td>17</td>\n",
       "      <td>20</td>\n",
       "    </tr>\n",
       "    <tr>\n",
       "      <th>7</th>\n",
       "      <td>2021-09-26</td>\n",
       "      <td>21</td>\n",
       "      <td>32.466667</td>\n",
       "      <td>11:33:15</td>\n",
       "      <td>20:38:44</td>\n",
       "      <td>5.116667</td>\n",
       "      <td>0.250000</td>\n",
       "      <td>11</td>\n",
       "      <td>20</td>\n",
       "    </tr>\n",
       "    <tr>\n",
       "      <th>6</th>\n",
       "      <td>2021-09-25</td>\n",
       "      <td>3</td>\n",
       "      <td>5.616667</td>\n",
       "      <td>11:40:27</td>\n",
       "      <td>17:00:41</td>\n",
       "      <td>3.666667</td>\n",
       "      <td>0.366667</td>\n",
       "      <td>11</td>\n",
       "      <td>17</td>\n",
       "    </tr>\n",
       "    <tr>\n",
       "      <th>5</th>\n",
       "      <td>2021-09-24</td>\n",
       "      <td>11</td>\n",
       "      <td>30.533333</td>\n",
       "      <td>07:16:37</td>\n",
       "      <td>16:56:20</td>\n",
       "      <td>10.083333</td>\n",
       "      <td>0.316667</td>\n",
       "      <td>7</td>\n",
       "      <td>16</td>\n",
       "    </tr>\n",
       "    <tr>\n",
       "      <th>4</th>\n",
       "      <td>2021-09-23</td>\n",
       "      <td>7</td>\n",
       "      <td>26.950000</td>\n",
       "      <td>08:09:47</td>\n",
       "      <td>20:49:57</td>\n",
       "      <td>6.216667</td>\n",
       "      <td>1.866667</td>\n",
       "      <td>8</td>\n",
       "      <td>20</td>\n",
       "    </tr>\n",
       "    <tr>\n",
       "      <th>3</th>\n",
       "      <td>2021-09-22</td>\n",
       "      <td>9</td>\n",
       "      <td>25.883333</td>\n",
       "      <td>10:00:42</td>\n",
       "      <td>15:59:52</td>\n",
       "      <td>9.166667</td>\n",
       "      <td>0.283333</td>\n",
       "      <td>10</td>\n",
       "      <td>15</td>\n",
       "    </tr>\n",
       "    <tr>\n",
       "      <th>2</th>\n",
       "      <td>2021-09-21</td>\n",
       "      <td>9</td>\n",
       "      <td>48.616667</td>\n",
       "      <td>08:48:10</td>\n",
       "      <td>21:23:08</td>\n",
       "      <td>30.983333</td>\n",
       "      <td>0.416667</td>\n",
       "      <td>8</td>\n",
       "      <td>21</td>\n",
       "    </tr>\n",
       "    <tr>\n",
       "      <th>1</th>\n",
       "      <td>2021-09-20</td>\n",
       "      <td>4</td>\n",
       "      <td>19.650000</td>\n",
       "      <td>07:32:24</td>\n",
       "      <td>21:29:05</td>\n",
       "      <td>9.033333</td>\n",
       "      <td>3.450000</td>\n",
       "      <td>7</td>\n",
       "      <td>21</td>\n",
       "    </tr>\n",
       "    <tr>\n",
       "      <th>0</th>\n",
       "      <td>2021-09-19</td>\n",
       "      <td>6</td>\n",
       "      <td>21.483333</td>\n",
       "      <td>17:18:27</td>\n",
       "      <td>19:51:31</td>\n",
       "      <td>6.683333</td>\n",
       "      <td>0.466667</td>\n",
       "      <td>17</td>\n",
       "      <td>19</td>\n",
       "    </tr>\n",
       "  </tbody>\n",
       "</table>\n",
       "</div>"
      ],
      "text/plain": [
       "         Date  No.of Times logged in  Total time spent   Sign In  Sign Out  \\\n",
       "31 2021-10-21                      2          1.716667  09:15:47  09:17:53   \n",
       "30 2021-10-20                     10         23.550000  07:11:52  18:26:52   \n",
       "29 2021-10-19                      5         15.800000  08:56:12  21:35:36   \n",
       "28 2021-10-18                      2         13.433333  09:27:27  19:28:42   \n",
       "27 2021-10-17                     15         38.433333  06:17:06  19:54:03   \n",
       "26 2021-10-16                      6         22.633333  10:26:50  19:36:20   \n",
       "25 2021-10-15                      6         20.900000  09:15:45  19:07:23   \n",
       "24 2021-10-14                      8         24.500000  08:54:14  20:29:38   \n",
       "23 2021-10-13                      3          9.683333  09:05:17  10:02:12   \n",
       "22 2021-10-12                     14         52.583333  14:15:12  21:44:22   \n",
       "21 2021-10-11                     11         26.566667  07:11:58  20:14:54   \n",
       "20 2021-10-10                     11         22.083333  06:58:26  20:31:12   \n",
       "19 2021-10-09                      5         21.483333  11:37:43  21:09:33   \n",
       "18 2021-10-08                      9         27.683333  15:17:08  21:29:25   \n",
       "17 2021-10-07                      5         26.600000  08:10:28  16:18:37   \n",
       "16 2021-10-06                     10         25.066667  08:14:22  19:56:24   \n",
       "15 2021-10-05                      3         25.566667  08:01:59  21:25:08   \n",
       "14 2021-10-04                     12         27.483333  06:46:38  21:02:38   \n",
       "13 2021-10-03                      5         18.133333  08:51:47  13:05:31   \n",
       "12 2021-10-02                     10         19.233333  06:44:03  20:08:16   \n",
       "11 2021-10-01                     11         24.583333  08:23:05  16:13:36   \n",
       "10 2021-09-30                     22         69.950000  07:01:06  20:58:42   \n",
       "9  2021-09-29                      6         21.983333  11:31:32  20:42:44   \n",
       "8  2021-09-28                      5         11.250000  17:31:44  20:00:59   \n",
       "7  2021-09-26                     21         32.466667  11:33:15  20:38:44   \n",
       "6  2021-09-25                      3          5.616667  11:40:27  17:00:41   \n",
       "5  2021-09-24                     11         30.533333  07:16:37  16:56:20   \n",
       "4  2021-09-23                      7         26.950000  08:09:47  20:49:57   \n",
       "3  2021-09-22                      9         25.883333  10:00:42  15:59:52   \n",
       "2  2021-09-21                      9         48.616667  08:48:10  21:23:08   \n",
       "1  2021-09-20                      4         19.650000  07:32:24  21:29:05   \n",
       "0  2021-09-19                      6         21.483333  17:18:27  19:51:31   \n",
       "\n",
       "    Max time spent  Min time spent  Sign In Hour  Sign Out Hour  \n",
       "31        1.366667        0.350000             9              9  \n",
       "30        4.533333        0.983333             7             18  \n",
       "29        5.533333        0.600000             8             21  \n",
       "28       10.550000        2.883333             9             19  \n",
       "27       10.850000        0.250000             6             19  \n",
       "26        7.000000        1.266667            10             19  \n",
       "25        8.250000        0.800000             9             19  \n",
       "24        6.700000        0.283333             8             20  \n",
       "23        5.466667        0.283333             9             10  \n",
       "22       10.583333        0.400000            14             21  \n",
       "21        5.500000        0.150000             7             20  \n",
       "20        6.733333        0.183333             6             20  \n",
       "19        8.900000        0.450000            11             21  \n",
       "18        6.733333        0.266667            15             21  \n",
       "17       13.450000        0.383333             8             16  \n",
       "16        8.300000        0.550000             8             19  \n",
       "15       13.650000        5.883333             8             21  \n",
       "14        8.816667        0.116667             6             21  \n",
       "13        9.600000        0.883333             8             13  \n",
       "12        3.550000        0.433333             6             20  \n",
       "11        8.233333        0.150000             8             16  \n",
       "10        8.983333        0.283333             7             20  \n",
       "9         8.350000        0.350000            11             20  \n",
       "8         5.350000        0.400000            17             20  \n",
       "7         5.116667        0.250000            11             20  \n",
       "6         3.666667        0.366667            11             17  \n",
       "5        10.083333        0.316667             7             16  \n",
       "4         6.216667        1.866667             8             20  \n",
       "3         9.166667        0.283333            10             15  \n",
       "2        30.983333        0.416667             8             21  \n",
       "1         9.033333        3.450000             7             21  \n",
       "0         6.683333        0.466667            17             19  "
      ]
     },
     "execution_count": 9,
     "metadata": {},
     "output_type": "execute_result"
    }
   ],
   "source": [
    "df_EachDay = pd.DataFrame()\n",
    "df_EachDay[\"No.of Times logged in\"] = df.groupby(\"Date\").count()[\"OnlineTime\"]\n",
    "df_EachDay[\"Total time spent\"] = df.groupby(\"Date\").sum()[\"OnlineDurationInMin\"]\n",
    "df_EachDay[\"Sign In\"] = df.groupby(\"Date\")[\"OnlineTime\"].min()\n",
    "df_EachDay[\"Sign Out\"] = df.groupby(\"Date\")[\"OfflineTime\"].max()\n",
    "df_EachDay[\"Max time spent\"] = df.groupby(\"Date\").max()[\"OnlineDurationInMin\"]\n",
    "df_EachDay[\"Min time spent\"] = df.groupby(\"Date\").min()[\"OnlineDurationInMin\"]\n",
    "df_EachDay[\"Sign In Hour\"] = df_EachDay[\"Sign In\"].apply(Hourfinder)\n",
    "df_EachDay[\"Sign Out Hour\"] = df_EachDay[\"Sign Out\"].apply(Hourfinder)\n",
    "df_EachDay = df_EachDay.reset_index()\n",
    "df_EachDay = df_EachDay.sort_values(\"Date\",ascending=False)\n",
    "df_EachDay"
   ]
  },
  {
   "cell_type": "markdown",
   "id": "eefb8b26",
   "metadata": {},
   "source": [
    "# 2.a. No.of times logged in each day :"
   ]
  },
  {
   "cell_type": "code",
   "execution_count": 10,
   "id": "4ecdc679",
   "metadata": {},
   "outputs": [
    {
     "data": {
      "image/png": "[encoded data removed]",
      "text/plain": [
       "<Figure size 1440x720 with 1 Axes>"
      ]
     },
     "metadata": {
      "needs_background": "light"
     },
     "output_type": "display_data"
    }
   ],
   "source": [
    "plt.figure(figsize=(20,10))\n",
    "bin_list1 =  [0,10,20, 30,40,50,60,70,80,90,100]\n",
    "sns.barplot(y=\"Date\",x=\"No.of Times logged in\",data=df_EachDay)\n",
    "plt.show()"
   ]
  },
  {
   "cell_type": "markdown",
   "id": "733dd23e",
   "metadata": {},
   "source": [
    "# 2.b. Total time spent each day :"
   ]
  },
  {
   "cell_type": "code",
   "execution_count": 11,
   "id": "830162e1",
   "metadata": {},
   "outputs": [
    {
     "data": {
      "image/png": "[encoded data removed]",
      "text/plain": [
       "<Figure size 1440x720 with 1 Axes>"
      ]
     },
     "metadata": {
      "needs_background": "light"
     },
     "output_type": "display_data"
    }
   ],
   "source": [
    "plt.figure(figsize=(20,10))\n",
    "sns.barplot(y=\"Date\",x=\"Total time spent\",data=df_EachDay)\n",
    "plt.show()"
   ]
  },
  {
   "cell_type": "markdown",
   "id": "82ff2f8f",
   "metadata": {},
   "source": [
    "# 2.c. Total time spent each day in line plot :"
   ]
  },
  {
   "cell_type": "code",
   "execution_count": 12,
   "id": "a0a3df0e",
   "metadata": {
    "scrolled": false
   },
   "outputs": [
    {
     "data": {
      "image/png": "[encoded data removed]",
      "text/plain": [
       "<Figure size 1440x576 with 1 Axes>"
      ]
     },
     "metadata": {
      "needs_background": "light"
     },
     "output_type": "display_data"
    }
   ],
   "source": [
    "plt.figure(figsize=(20,8))\n",
    "plt.plot(\"Date\",\"Total time spent\",data=df_EachDay,marker = 'D',linewidth = 3,color = \"orange\",markersize= 20)\n",
    "plt.show()"
   ]
  },
  {
   "cell_type": "markdown",
   "id": "a32be3f4",
   "metadata": {},
   "source": [
    "# 2.d. Time spent in Bins vs No.of Occurences :"
   ]
  },
  {
   "cell_type": "code",
   "execution_count": 13,
   "id": "a063e81d",
   "metadata": {},
   "outputs": [
    {
     "data": {
      "image/png": "[encoded data removed]",
      "text/plain": [
       "<Figure size 1080x360 with 1 Axes>"
      ]
     },
     "metadata": {
      "needs_background": "light"
     },
     "output_type": "display_data"
    },
    {
     "data": {
      "image/png": "[encoded data removed]",
      "text/plain": [
       "<Figure size 1080x360 with 1 Axes>"
      ]
     },
     "metadata": {
      "needs_background": "light"
     },
     "output_type": "display_data"
    }
   ],
   "source": [
    "plt.figure(figsize=(15,5))\n",
    "bin_list1 =  [0,10,20, 30,40,50,60,70,80,90,100]\n",
    "#bin_list1 =  [0,5, 10,15, 20,25, 30,35, 40,45,50,55,60,65,70,75,80,85,90,95,100]\n",
    "plt.hist(df_EachDay[\"Total time spent\"],color = \"orange\",edgecolor=\"pink\", bins =bin_list1 )\n",
    "plt.xlabel(\"Total time spent\")\n",
    "plt.ylabel(\"No.of occurences\")\n",
    "plt.xlim(0,100)\n",
    "plt.show()\n",
    "plt.figure(figsize=(15,5))\n",
    "bin_list2 =  [1,2,3,4,5,6,7,8,9,10,11,12,13,14,15,16,17,18,19,20,21,22,23,24,25,26,27,28,29,30]\n",
    "plt.hist(df_EachDay[\"No.of Times logged in\"],color = \"orange\",edgecolor=\"pink\",bins=bin_list2)\n",
    "plt.xlabel(\"No.of Times logged in\")\n",
    "plt.ylabel(\"No.of occurences\")\n",
    "plt.xlim(0)\n",
    "plt.show()"
   ]
  },
  {
   "cell_type": "markdown",
   "id": "3bb82403",
   "metadata": {},
   "source": [
    "# 2.e. Overall average of time spent , max time spent, min time spent :"
   ]
  },
  {
   "cell_type": "code",
   "execution_count": 14,
   "id": "6b9a1a01",
   "metadata": {},
   "outputs": [
    {
     "name": "stderr",
     "output_type": "stream",
     "text": [
      "<ipython-input-14-42bb68b678d9>:1: FutureWarning: DataFrame.mean and DataFrame.median with numeric_only=None will include datetime64 and datetime64tz columns in a future version.\n",
      "  df_OverallAvg = df_EachDay.median()\n"
     ]
    },
    {
     "data": {
      "text/plain": [
       "No.of Times logged in     7.500000\n",
       "Total time spent         24.025000\n",
       "Max time spent            8.241667\n",
       "Min time spent            0.391667\n",
       "Sign In Hour              8.000000\n",
       "Sign Out Hour            20.000000\n",
       "dtype: float64"
      ]
     },
     "execution_count": 14,
     "metadata": {},
     "output_type": "execute_result"
    }
   ],
   "source": [
    "df_OverallAvg = df_EachDay.median()\n",
    "df_OverallAvg"
   ]
  },
  {
   "cell_type": "markdown",
   "id": "aca5c7f9",
   "metadata": {},
   "source": [
    "# 3. Most Active, Least Active :"
   ]
  },
  {
   "cell_type": "markdown",
   "id": "0d28bb3f",
   "metadata": {},
   "source": [
    "#    a. Most active (**Hour is important.)"
   ]
  },
  {
   "cell_type": "code",
   "execution_count": 15,
   "id": "17f4d33f",
   "metadata": {},
   "outputs": [
    {
     "data": {
      "text/html": [
       "<div>\n",
       "<style scoped>\n",
       "    .dataframe tbody tr th:only-of-type {\n",
       "        vertical-align: middle;\n",
       "    }\n",
       "\n",
       "    .dataframe tbody tr th {\n",
       "        vertical-align: top;\n",
       "    }\n",
       "\n",
       "    .dataframe thead th {\n",
       "        text-align: right;\n",
       "    }\n",
       "</style>\n",
       "<table border=\"1\" class=\"dataframe\">\n",
       "  <thead>\n",
       "    <tr style=\"text-align: right;\">\n",
       "      <th></th>\n",
       "      <th>Hour</th>\n",
       "      <th>OnlineDurationInMin</th>\n",
       "    </tr>\n",
       "  </thead>\n",
       "  <tbody>\n",
       "    <tr>\n",
       "      <th>10</th>\n",
       "      <td>16</td>\n",
       "      <td>2.827083</td>\n",
       "    </tr>\n",
       "    <tr>\n",
       "      <th>14</th>\n",
       "      <td>20</td>\n",
       "      <td>2.307292</td>\n",
       "    </tr>\n",
       "    <tr>\n",
       "      <th>13</th>\n",
       "      <td>19</td>\n",
       "      <td>2.300521</td>\n",
       "    </tr>\n",
       "    <tr>\n",
       "      <th>2</th>\n",
       "      <td>8</td>\n",
       "      <td>2.169271</td>\n",
       "    </tr>\n",
       "    <tr>\n",
       "      <th>5</th>\n",
       "      <td>11</td>\n",
       "      <td>1.815104</td>\n",
       "    </tr>\n",
       "  </tbody>\n",
       "</table>\n",
       "</div>"
      ],
      "text/plain": [
       "    Hour  OnlineDurationInMin\n",
       "10    16             2.827083\n",
       "14    20             2.307292\n",
       "13    19             2.300521\n",
       "2      8             2.169271\n",
       "5     11             1.815104"
      ]
     },
     "execution_count": 15,
     "metadata": {},
     "output_type": "execute_result"
    }
   ],
   "source": [
    "df_Most_Least_Active = df.groupby(\"Hour\").sum(\"OnlineDurationInMin\")\n",
    "df_Most_Least_Active = df_Most_Least_Active.reset_index()\n",
    "df_Most_Least_Active[\"OnlineDurationInMin\"] = df_Most_Least_Active[\"OnlineDurationInMin\"] /df[\"Date\"].nunique()\n",
    "df_Most_Least_Active=df_Most_Least_Active.sort_values(\"OnlineDurationInMin\",ascending=False)\n",
    "df_Most_Least_Active = df_Most_Least_Active[[\"Hour\",\"OnlineDurationInMin\"]]\n",
    "df_Most_Least_Active.head()"
   ]
  },
  {
   "cell_type": "markdown",
   "id": "9afc30fe",
   "metadata": {},
   "source": [
    "#    b. Least active (**Hour is important.)"
   ]
  },
  {
   "cell_type": "code",
   "execution_count": 16,
   "id": "53f14287",
   "metadata": {},
   "outputs": [
    {
     "data": {
      "text/html": [
       "<div>\n",
       "<style scoped>\n",
       "    .dataframe tbody tr th:only-of-type {\n",
       "        vertical-align: middle;\n",
       "    }\n",
       "\n",
       "    .dataframe tbody tr th {\n",
       "        vertical-align: top;\n",
       "    }\n",
       "\n",
       "    .dataframe thead th {\n",
       "        text-align: right;\n",
       "    }\n",
       "</style>\n",
       "<table border=\"1\" class=\"dataframe\">\n",
       "  <thead>\n",
       "    <tr style=\"text-align: right;\">\n",
       "      <th></th>\n",
       "      <th>Hour</th>\n",
       "      <th>OnlineDurationInMin</th>\n",
       "    </tr>\n",
       "  </thead>\n",
       "  <tbody>\n",
       "    <tr>\n",
       "      <th>0</th>\n",
       "      <td>6</td>\n",
       "      <td>0.803646</td>\n",
       "    </tr>\n",
       "    <tr>\n",
       "      <th>15</th>\n",
       "      <td>21</td>\n",
       "      <td>0.828125</td>\n",
       "    </tr>\n",
       "    <tr>\n",
       "      <th>12</th>\n",
       "      <td>18</td>\n",
       "      <td>0.889063</td>\n",
       "    </tr>\n",
       "    <tr>\n",
       "      <th>4</th>\n",
       "      <td>10</td>\n",
       "      <td>1.175521</td>\n",
       "    </tr>\n",
       "    <tr>\n",
       "      <th>6</th>\n",
       "      <td>12</td>\n",
       "      <td>1.256250</td>\n",
       "    </tr>\n",
       "  </tbody>\n",
       "</table>\n",
       "</div>"
      ],
      "text/plain": [
       "    Hour  OnlineDurationInMin\n",
       "0      6             0.803646\n",
       "15    21             0.828125\n",
       "12    18             0.889063\n",
       "4     10             1.175521\n",
       "6     12             1.256250"
      ]
     },
     "execution_count": 16,
     "metadata": {},
     "output_type": "execute_result"
    }
   ],
   "source": [
    "df_Most_Least_Active = df_Most_Least_Active.sort_values(\"OnlineDurationInMin\")\n",
    "df_Most_Least_Active.head()"
   ]
  },
  {
   "cell_type": "markdown",
   "id": "ad0cfb28",
   "metadata": {},
   "source": [
    " # 4.a. Most active,least active & Avg duration per hour :"
   ]
  },
  {
   "cell_type": "code",
   "execution_count": 17,
   "id": "9f1f1f11",
   "metadata": {
    "scrolled": false
   },
   "outputs": [
    {
     "data": {
      "image/png": "[encoded data removed]",
      "text/plain": [
       "<Figure size 720x432 with 1 Axes>"
      ]
     },
     "metadata": {
      "needs_background": "light"
     },
     "output_type": "display_data"
    }
   ],
   "source": [
    "plt.figure(figsize=(10,6))\n",
    "sns.barplot(x=\"Hour\",y=\"OnlineDurationInMin\",data=df_Most_Least_Active)\n",
    "plt.show()"
   ]
  },
  {
   "cell_type": "markdown",
   "id": "aaddd3f4",
   "metadata": {},
   "source": [
    "# 4.b. No .Of Logins Per Hour"
   ]
  },
  {
   "cell_type": "code",
   "execution_count": 18,
   "id": "fd6ed1d0",
   "metadata": {},
   "outputs": [
    {
     "data": {
      "image/png": "[encoded data removed]",
      "text/plain": [
       "<Figure size 720x432 with 1 Axes>"
      ]
     },
     "metadata": {
      "needs_background": "light"
     },
     "output_type": "display_data"
    }
   ],
   "source": [
    "df_NoOfLoginsPerHour = df.groupby(\"Hour\").count()\n",
    "df_NoOfLoginsPerHour=df_NoOfLoginsPerHour.reset_index()\n",
    "df_NoOfLoginsPerHour[\"No .Of Logins Per Hour\"] =df_NoOfLoginsPerHour[\"Date\"]\n",
    "df_NoOfLoginsPerHour = df_NoOfLoginsPerHour[[\"Hour\",\"No .Of Logins Per Hour\"]]\n",
    "plt.figure(figsize=(10,6))\n",
    "sns.barplot(y=\"No .Of Logins Per Hour\",x=\"Hour\",data=df_NoOfLoginsPerHour)\n",
    "plt.show()"
   ]
  },
  {
   "cell_type": "markdown",
   "id": "004442ff",
   "metadata": {},
   "source": [
    "# 4.c. Duration & No.of times login per hour:"
   ]
  },
  {
   "cell_type": "code",
   "execution_count": 19,
   "id": "82c9ee4e",
   "metadata": {},
   "outputs": [
    {
     "data": {
      "text/html": [
       "<div>\n",
       "<style scoped>\n",
       "    .dataframe tbody tr th:only-of-type {\n",
       "        vertical-align: middle;\n",
       "    }\n",
       "\n",
       "    .dataframe tbody tr th {\n",
       "        vertical-align: top;\n",
       "    }\n",
       "\n",
       "    .dataframe thead th {\n",
       "        text-align: right;\n",
       "    }\n",
       "</style>\n",
       "<table border=\"1\" class=\"dataframe\">\n",
       "  <thead>\n",
       "    <tr style=\"text-align: right;\">\n",
       "      <th></th>\n",
       "      <th>Hour</th>\n",
       "      <th>OnlineDurationInMin</th>\n",
       "      <th>No.of times logged in</th>\n",
       "    </tr>\n",
       "  </thead>\n",
       "  <tbody>\n",
       "    <tr>\n",
       "      <th>0</th>\n",
       "      <td>6</td>\n",
       "      <td>25.716667</td>\n",
       "      <td>8</td>\n",
       "    </tr>\n",
       "    <tr>\n",
       "      <th>1</th>\n",
       "      <td>7</td>\n",
       "      <td>45.166667</td>\n",
       "      <td>15</td>\n",
       "    </tr>\n",
       "    <tr>\n",
       "      <th>2</th>\n",
       "      <td>8</td>\n",
       "      <td>69.416667</td>\n",
       "      <td>18</td>\n",
       "    </tr>\n",
       "    <tr>\n",
       "      <th>3</th>\n",
       "      <td>9</td>\n",
       "      <td>47.400000</td>\n",
       "      <td>16</td>\n",
       "    </tr>\n",
       "    <tr>\n",
       "      <th>4</th>\n",
       "      <td>10</td>\n",
       "      <td>37.616667</td>\n",
       "      <td>14</td>\n",
       "    </tr>\n",
       "    <tr>\n",
       "      <th>5</th>\n",
       "      <td>11</td>\n",
       "      <td>58.083333</td>\n",
       "      <td>16</td>\n",
       "    </tr>\n",
       "    <tr>\n",
       "      <th>6</th>\n",
       "      <td>12</td>\n",
       "      <td>40.200000</td>\n",
       "      <td>13</td>\n",
       "    </tr>\n",
       "    <tr>\n",
       "      <th>7</th>\n",
       "      <td>13</td>\n",
       "      <td>47.683333</td>\n",
       "      <td>15</td>\n",
       "    </tr>\n",
       "    <tr>\n",
       "      <th>8</th>\n",
       "      <td>14</td>\n",
       "      <td>48.033333</td>\n",
       "      <td>20</td>\n",
       "    </tr>\n",
       "    <tr>\n",
       "      <th>9</th>\n",
       "      <td>15</td>\n",
       "      <td>49.150000</td>\n",
       "      <td>20</td>\n",
       "    </tr>\n",
       "    <tr>\n",
       "      <th>10</th>\n",
       "      <td>16</td>\n",
       "      <td>90.466667</td>\n",
       "      <td>18</td>\n",
       "    </tr>\n",
       "    <tr>\n",
       "      <th>11</th>\n",
       "      <td>17</td>\n",
       "      <td>40.766667</td>\n",
       "      <td>18</td>\n",
       "    </tr>\n",
       "    <tr>\n",
       "      <th>12</th>\n",
       "      <td>18</td>\n",
       "      <td>28.450000</td>\n",
       "      <td>20</td>\n",
       "    </tr>\n",
       "    <tr>\n",
       "      <th>13</th>\n",
       "      <td>19</td>\n",
       "      <td>73.616667</td>\n",
       "      <td>23</td>\n",
       "    </tr>\n",
       "    <tr>\n",
       "      <th>14</th>\n",
       "      <td>20</td>\n",
       "      <td>73.833333</td>\n",
       "      <td>23</td>\n",
       "    </tr>\n",
       "    <tr>\n",
       "      <th>15</th>\n",
       "      <td>21</td>\n",
       "      <td>26.500000</td>\n",
       "      <td>9</td>\n",
       "    </tr>\n",
       "  </tbody>\n",
       "</table>\n",
       "</div>"
      ],
      "text/plain": [
       "    Hour  OnlineDurationInMin  No.of times logged in\n",
       "0      6            25.716667                      8\n",
       "1      7            45.166667                     15\n",
       "2      8            69.416667                     18\n",
       "3      9            47.400000                     16\n",
       "4     10            37.616667                     14\n",
       "5     11            58.083333                     16\n",
       "6     12            40.200000                     13\n",
       "7     13            47.683333                     15\n",
       "8     14            48.033333                     20\n",
       "9     15            49.150000                     20\n",
       "10    16            90.466667                     18\n",
       "11    17            40.766667                     18\n",
       "12    18            28.450000                     20\n",
       "13    19            73.616667                     23\n",
       "14    20            73.833333                     23\n",
       "15    21            26.500000                      9"
      ]
     },
     "execution_count": 19,
     "metadata": {},
     "output_type": "execute_result"
    }
   ],
   "source": [
    "df_H1 = df.groupby(\"Hour\").sum()\n",
    "df_H1=df_H1.reset_index()\n",
    "df_H1=df_H1.sort_values(\"Hour\")\n",
    "df_H1 = df_H1[[\"Hour\",\"OnlineDurationInMin\"]]\n",
    "df_H2 = df.groupby(\"Hour\").count()\n",
    "df_H2 = df_H2.reset_index()\n",
    "df_H2[\"No.of times logged in\"] = df_H2[\"OnlineTime\"]\n",
    "df_H2 = df_H2[[\"Hour\",\"No.of times logged in\"]]\n",
    "df_H3 = pd.merge(df_H1, df_H2, on='Hour', how='inner')\n",
    "df_H3"
   ]
  },
  {
   "cell_type": "markdown",
   "id": "e93b98f4",
   "metadata": {},
   "source": [
    "# 4.d. No.of days she is active on a particular hour:"
   ]
  },
  {
   "cell_type": "code",
   "execution_count": 20,
   "id": "2f7cb070",
   "metadata": {},
   "outputs": [
    {
     "data": {
      "image/png": "[encoded data removed]",
      "text/plain": [
       "<Figure size 720x576 with 1 Axes>"
      ]
     },
     "metadata": {
      "needs_background": "light"
     },
     "output_type": "display_data"
    }
   ],
   "source": [
    "df_grp_Date_Hour = df.groupby([\"Date\",\"Hour\"]).count()\n",
    "df_grp_Date_Hour = df_grp_Date_Hour.reset_index()\n",
    "df_grp_Date_Hour = df_grp_Date_Hour[[\"Date\",\"Hour\"]]\n",
    "df_grp_Date_Hour_Ult = df_grp_Date_Hour.groupby(\"Hour\").count()\n",
    "df_grp_Date_Hour_Ult= df_grp_Date_Hour_Ult.reset_index()\n",
    "plt.figure(figsize=(10,8))\n",
    "sns.barplot(x=\"Hour\",y=\"Date\",data=df_grp_Date_Hour_Ult)\n",
    "plt.ylabel(\"No.of days\")\n",
    "plt.show()"
   ]
  },
  {
   "cell_type": "markdown",
   "id": "42ffe5f7",
   "metadata": {},
   "source": [
    "# 5. Avg sign in , sign out Times"
   ]
  },
  {
   "cell_type": "markdown",
   "id": "89038baf",
   "metadata": {},
   "source": [
    "# a. Avg Sign In Hour "
   ]
  },
  {
   "cell_type": "code",
   "execution_count": 21,
   "id": "0cf755dc",
   "metadata": {},
   "outputs": [
    {
     "data": {
      "image/png": "[encoded data removed]",
      "text/plain": [
       "<Figure size 720x432 with 1 Axes>"
      ]
     },
     "metadata": {
      "needs_background": "light"
     },
     "output_type": "display_data"
    }
   ],
   "source": [
    "df_EachDay_SignInHour=df_EachDay.groupby(\"Sign In Hour\").count()\n",
    "df_EachDay_SignInHour=df_EachDay_SignInHour.reset_index()\n",
    "plt.figure(figsize=(10,6))\n",
    "sns.barplot(y=\"No.of Times logged in\",x=\"Sign In Hour\",data=df_EachDay_SignInHour)\n",
    "plt.show()"
   ]
  },
  {
   "cell_type": "markdown",
   "id": "6913b13b",
   "metadata": {},
   "source": [
    "# b. Avg Sign out Hour "
   ]
  },
  {
   "cell_type": "code",
   "execution_count": 22,
   "id": "e827e8b7",
   "metadata": {},
   "outputs": [
    {
     "data": {
      "image/png": "[encoded data removed]",
      "text/plain": [
       "<Figure size 720x576 with 1 Axes>"
      ]
     },
     "metadata": {
      "needs_background": "light"
     },
     "output_type": "display_data"
    }
   ],
   "source": [
    "df_EachDay_SignOutHour =df_EachDay.groupby(\"Sign Out Hour\").count()\n",
    "df_EachDay_SignOutHour = df_EachDay_SignOutHour.reset_index()\n",
    "plt.figure(figsize=(10,8))\n",
    "sns.barplot(y=\"No.of Times logged in\",x=\"Sign Out Hour\",data=df_EachDay_SignOutHour)\n",
    "plt.show()"
   ]
  },
  {
   "cell_type": "markdown",
   "id": "61975d94",
   "metadata": {},
   "source": [
    "# c. Sign in hour vs Date graph"
   ]
  },
  {
   "cell_type": "code",
   "execution_count": 23,
   "id": "57dcf7a2",
   "metadata": {},
   "outputs": [
    {
     "data": {
      "text/plain": [
       "[<matplotlib.lines.Line2D at 0x2a2011d31f0>]"
      ]
     },
     "execution_count": 23,
     "metadata": {},
     "output_type": "execute_result"
    },
    {
     "data": {
      "image/png": "[encoded data removed]",
      "text/plain": [
       "<Figure size 1440x576 with 1 Axes>"
      ]
     },
     "metadata": {
      "needs_background": "light"
     },
     "output_type": "display_data"
    }
   ],
   "source": [
    "plt.figure(figsize=(20,8))\n",
    "plt.plot(\"Date\",\"Sign In Hour\",data=df_EachDay,marker = 'D',linewidth = 3,color = \"orange\",markersize= 20)"
   ]
  },
  {
   "cell_type": "markdown",
   "id": "870aed57",
   "metadata": {},
   "source": [
    "# d. Sign in hour vs Date graph"
   ]
  },
  {
   "cell_type": "code",
   "execution_count": 24,
   "id": "938efa9b",
   "metadata": {},
   "outputs": [
    {
     "data": {
      "text/plain": [
       "[<matplotlib.lines.Line2D at 0x2a20107a1f0>]"
      ]
     },
     "execution_count": 24,
     "metadata": {},
     "output_type": "execute_result"
    },
    {
     "data": {
      "image/png": "[encoded data removed]",
      "text/plain": [
       "<Figure size 1440x576 with 1 Axes>"
      ]
     },
     "metadata": {
      "needs_background": "light"
     },
     "output_type": "display_data"
    }
   ],
   "source": [
    "plt.figure(figsize=(20,8))\n",
    "plt.plot(\"Date\",\"Sign Out Hour\",data=df_EachDay,marker = 'D',linewidth = 3,color = \"orange\",markersize= 20)"
   ]
  },
  {
   "cell_type": "markdown",
   "id": "f5e7968f",
   "metadata": {},
   "source": [
    "# Plotting & Clustering"
   ]
  },
  {
   "cell_type": "markdown",
   "id": "8372ff47",
   "metadata": {},
   "source": [
    "plt.scatter(df_EachDay[\"Total time spent\"],df_EachDay[\"Date\"])"
   ]
  },
  {
   "cell_type": "markdown",
   "id": "eb6f9ed0",
   "metadata": {},
   "source": [
    "from sklearn.cluster import KMeans\n",
    "from sklearn.preprocessing import MinMaxScaler\n",
    "km = KMeans(n_clusters=3)"
   ]
  },
  {
   "cell_type": "markdown",
   "id": "d6527da0",
   "metadata": {},
   "source": [
    "df_EachDay_KMeans = df_EachDay[[\"Total time spent\",\"No.of Times logged in\"]]\n",
    "y_predict = km.fit_predict(df_EachDay_KMeans)\n",
    "df_EachDay_KMeans[\"Clusters\"] = y_predict"
   ]
  },
  {
   "cell_type": "markdown",
   "id": "bc5565e2",
   "metadata": {},
   "source": [
    "df_EachDay_KMeans_0 = df_EachDay_KMeans[df_EachDay_KMeans[\"Clusters\"] == 0]\n",
    "df_EachDay_KMeans_1 = df_EachDay_KMeans[df_EachDay_KMeans[\"Clusters\"] == 1]\n",
    "df_EachDay_KMeans_2 = df_EachDay_KMeans[df_EachDay_KMeans[\"Clusters\"] == 2]"
   ]
  },
  {
   "cell_type": "markdown",
   "id": "3fa5a6eb",
   "metadata": {},
   "source": [
    "df_EachDay_KMeans_0\n",
    "df_EachDay_KMeans_1\n",
    "df_EachDay_KMeans_2\n",
    "\n",
    "plt.scatter(df_EachDay_KMeans_0[\"Total time spent\"],df_EachDay_KMeans_0[\"No.of Times logged in\"],color = \"green\")\n",
    "plt.scatter(df_EachDay_KMeans_1[\"Total time spent\"],df_EachDay_KMeans_1[\"No.of Times logged in\"],color = \"orange\")\n",
    "plt.scatter(df_EachDay_KMeans_2[\"Total time spent\"],df_EachDay_KMeans_2[\"No.of Times logged in\"],color = \"blue\")\n",
    "\n",
    "plt.xlabel(\"Total time spent\")\n",
    "plt.ylabel(\"No.of Times logged in\")\n",
    "plt.legend()"
   ]
  },
  {
   "cell_type": "markdown",
   "id": "a5705757",
   "metadata": {},
   "source": [
    "#scaler  = MinMaxScaler()\n",
    "#scaler.fit(df_EachDay_KMeans[\"Total time spent\"])\n",
    "#df_EachDay_KMeans[\"Total time spent\"] = scaler.transform(df_EachDay_KMeans[\"Total time spent\"])\n"
   ]
  },
  {
   "cell_type": "markdown",
   "id": "8be7835e",
   "metadata": {},
   "source": [
    "plt.figure(figsize=(20,10))\n",
    "palette ={5: \"C0\", 6: \"C1\", 7: \"C2\", 8: \"C3\",9: \"C4\", 10: \"C5\", 11: \"C6\", 12: \"C7\", 13: \"C8\", 14: \"C9\", 15: \"C10\", 16: \"C11\", 17: \"C12\", 18: \"C13\", 19: \"C14\", 20: \"C15\", 21: \"C16\"}\n",
    "sns.scatterplot(y=\"OnlineDurationInMin\",x=\"AwayDurationInMin\",data=df,hue=\"Hour\",palette=palette,marker = 'D')\n",
    "plt.xlim((0,25))"
   ]
  },
  {
   "cell_type": "markdown",
   "id": "ceb3447d",
   "metadata": {},
   "source": [
    "sns.scatterplot(y=\"OnlineDurationInMin\",x=\"AwayDurationInMin\",data=df,hue=\"Hour\")\n",
    "plt.xlim((200,400))"
   ]
  },
  {
   "cell_type": "markdown",
   "id": "7f1236ff",
   "metadata": {},
   "source": [
    "sns.scatterplot(y=\"OnlineDurationInMin\",x=\"AwayDurationInMin\",data=df,hue=\"Hour\")\n",
    "plt.xlim((400,800))\n"
   ]
  },
  {
   "cell_type": "markdown",
   "id": "fb4cc9b6",
   "metadata": {},
   "source": [
    "plt.scatter(\"OnlineDurationInMin\",\"AwayDurationInMin\",data=df)\n",
    "plt.scatter(\"OnlineDurationInMin\",\"AwayDurationInMin\",data=df)"
   ]
  },
  {
   "cell_type": "markdown",
   "id": "2edab72c",
   "metadata": {},
   "source": [
    "df1_16 = df.groupby([\"Day\",\"Date\"]).size().reset_index().sort_values(\"Day\")\n",
    "df2_16 =df.groupby([\"Day\",\"Date\"]).sum().reset_index().sort_values(\"Day\")\n",
    "result = pd.concat([df1_16, df2_16], axis=1, join='inner',)"
   ]
  },
  {
   "cell_type": "markdown",
   "id": "ffd9d4a5",
   "metadata": {},
   "source": [
    "df_Today=df.sort_values(\"OnlineTime\",ascending=False)\n",
    "X=df_Today[[\"Hour\",\"AwayDurationInMin\"]]\n",
    "y=df_Today[\"OnlineDurationInMin\"]\n",
    "from sklearn.model_selection import train_test_split\n",
    "X_train, X_test, y_train, y_test = train_test_split(X, y, test_size=0.33, random_state=42)\n",
    "from sklearn.linear_model import LinearRegression\n",
    "lm = LinearRegression()\n",
    "lm.fit(X_train,y_train)\n",
    "predictions = lm.predict(X_test)\n",
    "plt.scatter(y_test,predictions)"
   ]
  },
  {
   "cell_type": "markdown",
   "id": "94be68d2",
   "metadata": {},
   "source": [
    "#print(lm.predict(X.loc[[126]]))\n",
    "#print(y.loc[[126]])"
   ]
  },
  {
   "cell_type": "markdown",
   "id": "4c15fd0b",
   "metadata": {},
   "source": [
    "sns.distplot((y_test-predictions))"
   ]
  },
  {
   "cell_type": "markdown",
   "id": "97259314",
   "metadata": {},
   "source": [
    "#sns.barplot(y=\"No.of Times logged in\",x=\"Sign In Hour\",data=df_EachDay_SignInHour)\n",
    "\n",
    "sns.distplot(df_EachDay_SignInHour[\"Sign In Hour\"])"
   ]
  },
  {
   "cell_type": "markdown",
   "id": "f7c275a6",
   "metadata": {},
   "source": [
    "df_AvgTimespentTrend"
   ]
  },
  {
   "cell_type": "markdown",
   "id": "55a69def",
   "metadata": {},
   "source": [
    "No_OfDays =  df_EachDay[\"Date\"].nunique()\n",
    "import array as arr\n",
    "df_arr = arr.array('f')\n",
    "sum=0\n",
    "for i in np.arange(0,No_OfDays):\n",
    "    for j in np.arange(0,i+1):\n",
    "        temp= df_EachDay.iloc[j][\"Total time spent\"]\n",
    "        sum = sum+temp\n",
    "    Avg = sum/(i+1)\n",
    "    df_arr.append(round(Avg, 2))\n",
    "    sum=0\n",
    "series = pd.Series(df_arr) \n",
    "df_AvgTimespentTrend = pd.DataFrame()\n",
    "df_AvgTimespentTrend[\"Avg\"] = series"
   ]
  },
  {
   "cell_type": "markdown",
   "id": "1533bc77",
   "metadata": {},
   "source": [
    "df_EachDay= df_EachDay.sort_values(\"Date\")\n",
    "df_EachDay[\"AvgTimespentTrend\"]=df_AvgTimespentTrend[\"Avg\"]\n",
    "df_EachDay\n",
    "No_OfDays =  df_EachDay[\"Date\"].nunique()\n",
    "import array as arr\n",
    "df_arr = arr.array('f')\n",
    "sum=0\n",
    "for i in np.arange(0,No_OfDays):\n",
    "    for j in np.arange(0,i+1):\n",
    "        temp= df_EachDay.iloc[j][\"Total time spent\"]\n",
    "        sum = sum+temp\n",
    "    Avg = sum/(i+1)\n",
    "    df_arr.append(round(Avg, 2))\n",
    "    sum=0\n",
    "series = pd.Series(df_arr) \n",
    "df_AvgTimespentTrend = pd.DataFrame()\n",
    "df_AvgTimespentTrend[\"Avg\"] = series\n",
    "df_AvgTimespentTrend[\"Date\"] = df_EachDay[\"Date\"].sort_values(ascending=False)\n",
    "#plt.figure(figsize=(20,8))\n",
    "#plt.plot(\"Date\",\"Avg\",data=df_AvgTimespentTrend,marker = 'D',linewidth = 3,color = \"orange\",markersize= 20)\n",
    "#plt.xlabel(\"Date\")\n",
    "#plt.ylabel(\"Avg online time Trend\")#series"
   ]
  },
  {
   "cell_type": "code",
   "execution_count": 25,
   "id": "5c460c93",
   "metadata": {},
   "outputs": [
    {
     "data": {
      "text/html": [
       "<div>\n",
       "<style scoped>\n",
       "    .dataframe tbody tr th:only-of-type {\n",
       "        vertical-align: middle;\n",
       "    }\n",
       "\n",
       "    .dataframe tbody tr th {\n",
       "        vertical-align: top;\n",
       "    }\n",
       "\n",
       "    .dataframe thead th {\n",
       "        text-align: right;\n",
       "    }\n",
       "</style>\n",
       "<table border=\"1\" class=\"dataframe\">\n",
       "  <thead>\n",
       "    <tr style=\"text-align: right;\">\n",
       "      <th></th>\n",
       "      <th>Hour</th>\n",
       "      <th>OnlineDurationInMin</th>\n",
       "      <th>No.of times logged in</th>\n",
       "    </tr>\n",
       "  </thead>\n",
       "  <tbody>\n",
       "    <tr>\n",
       "      <th>10</th>\n",
       "      <td>16</td>\n",
       "      <td>90.466667</td>\n",
       "      <td>18</td>\n",
       "    </tr>\n",
       "    <tr>\n",
       "      <th>14</th>\n",
       "      <td>20</td>\n",
       "      <td>73.833333</td>\n",
       "      <td>23</td>\n",
       "    </tr>\n",
       "    <tr>\n",
       "      <th>13</th>\n",
       "      <td>19</td>\n",
       "      <td>73.616667</td>\n",
       "      <td>23</td>\n",
       "    </tr>\n",
       "    <tr>\n",
       "      <th>2</th>\n",
       "      <td>8</td>\n",
       "      <td>69.416667</td>\n",
       "      <td>18</td>\n",
       "    </tr>\n",
       "    <tr>\n",
       "      <th>5</th>\n",
       "      <td>11</td>\n",
       "      <td>58.083333</td>\n",
       "      <td>16</td>\n",
       "    </tr>\n",
       "    <tr>\n",
       "      <th>9</th>\n",
       "      <td>15</td>\n",
       "      <td>49.150000</td>\n",
       "      <td>20</td>\n",
       "    </tr>\n",
       "    <tr>\n",
       "      <th>8</th>\n",
       "      <td>14</td>\n",
       "      <td>48.033333</td>\n",
       "      <td>20</td>\n",
       "    </tr>\n",
       "    <tr>\n",
       "      <th>7</th>\n",
       "      <td>13</td>\n",
       "      <td>47.683333</td>\n",
       "      <td>15</td>\n",
       "    </tr>\n",
       "    <tr>\n",
       "      <th>3</th>\n",
       "      <td>9</td>\n",
       "      <td>47.400000</td>\n",
       "      <td>16</td>\n",
       "    </tr>\n",
       "    <tr>\n",
       "      <th>1</th>\n",
       "      <td>7</td>\n",
       "      <td>45.166667</td>\n",
       "      <td>15</td>\n",
       "    </tr>\n",
       "    <tr>\n",
       "      <th>11</th>\n",
       "      <td>17</td>\n",
       "      <td>40.766667</td>\n",
       "      <td>18</td>\n",
       "    </tr>\n",
       "    <tr>\n",
       "      <th>6</th>\n",
       "      <td>12</td>\n",
       "      <td>40.200000</td>\n",
       "      <td>13</td>\n",
       "    </tr>\n",
       "    <tr>\n",
       "      <th>4</th>\n",
       "      <td>10</td>\n",
       "      <td>37.616667</td>\n",
       "      <td>14</td>\n",
       "    </tr>\n",
       "    <tr>\n",
       "      <th>12</th>\n",
       "      <td>18</td>\n",
       "      <td>28.450000</td>\n",
       "      <td>20</td>\n",
       "    </tr>\n",
       "    <tr>\n",
       "      <th>15</th>\n",
       "      <td>21</td>\n",
       "      <td>26.500000</td>\n",
       "      <td>9</td>\n",
       "    </tr>\n",
       "    <tr>\n",
       "      <th>0</th>\n",
       "      <td>6</td>\n",
       "      <td>25.716667</td>\n",
       "      <td>8</td>\n",
       "    </tr>\n",
       "  </tbody>\n",
       "</table>\n",
       "</div>"
      ],
      "text/plain": [
       "    Hour  OnlineDurationInMin  No.of times logged in\n",
       "10    16            90.466667                     18\n",
       "14    20            73.833333                     23\n",
       "13    19            73.616667                     23\n",
       "2      8            69.416667                     18\n",
       "5     11            58.083333                     16\n",
       "9     15            49.150000                     20\n",
       "8     14            48.033333                     20\n",
       "7     13            47.683333                     15\n",
       "3      9            47.400000                     16\n",
       "1      7            45.166667                     15\n",
       "11    17            40.766667                     18\n",
       "6     12            40.200000                     13\n",
       "4     10            37.616667                     14\n",
       "12    18            28.450000                     20\n",
       "15    21            26.500000                      9\n",
       "0      6            25.716667                      8"
      ]
     },
     "execution_count": 25,
     "metadata": {},
     "output_type": "execute_result"
    }
   ],
   "source": [
    "df_H3.sort_values(\"OnlineDurationInMin\",ascending=False)"
   ]
  },
  {
   "cell_type": "code",
   "execution_count": null,
   "id": "293a2f47",
   "metadata": {},
   "outputs": [],
   "source": []
  }
 ],
 "metadata": {
  "kernelspec": {
   "display_name": "Python 3",
   "language": "python",
   "name": "python3"
  },
  "language_info": {
   "codemirror_mode": {
    "name": "ipython",
    "version": 3
   },
   "file_extension": ".py",
   "mimetype": "text/x-python",
   "name": "python",
   "nbconvert_exporter": "python",
   "pygments_lexer": "ipython3",
   "version": "3.8.8"
  }
 },
 "nbformat": 4,
 "nbformat_minor": 5
}
